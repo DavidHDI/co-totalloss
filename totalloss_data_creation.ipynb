{
 "cells": [
  {
   "cell_type": "markdown",
   "id": "8662e34a-6981-45a5-bed9-f762a332052a",
   "metadata": {},
   "source": [
    "## Creating the dataset for the total loss model in Colombia"
   ]
  },
  {
   "cell_type": "markdown",
   "id": "7a2d9461-2e96-4331-aaad-ce1cb436160a",
   "metadata": {},
   "source": [
    "In this notebook we create the training dataset"
   ]
  },
  {
   "cell_type": "code",
   "execution_count": 2,
   "id": "310a46dd-ef75-47d8-9659-06dea07cb2f9",
   "metadata": {
    "tags": []
   },
   "outputs": [],
   "source": [
    "import re\n",
    "import numpy as np\n",
    "import pandas as pd\n",
    "from sklearn.feature_extraction.text import CountVectorizer\n",
    "from unidecode import unidecode\n",
    "import xgboost as xgb\n",
    "import boto3\n",
    "from datetime import datetime"
   ]
  },
  {
   "cell_type": "code",
   "execution_count": 2,
   "id": "b781d018-c67d-4185-9421-76c40311584e",
   "metadata": {
    "tags": []
   },
   "outputs": [],
   "source": [
    "#Read the historico_2019-01-02_2024-01-30.csv which has the claims historical information since 2019"
   ]
  },
  {
   "cell_type": "markdown",
   "id": "477de6f0-62d7-41de-93b3-1f5563c5fa93",
   "metadata": {},
   "source": [
    "In order to create the training set, we use 2 main datasets: \n",
    "\n",
    "1. A file with historical claims. The name of this file changes every day. It has the historical claims\n",
    "reported since January 2019 up to date. You can find the file here s3://cortex-modeling-andes-local/epiphany-cortex/TABLA_DIARIO/\n",
    "\n",
    "The one we use in this version is historico_2019-01-02_2024-01-30.csv\n",
    "\n",
    "Later in this notebook, you will see we keep claims from January 2022 to July 2023.\n",
    "\n",
    "You can change the dates when training new versions of the model\n",
    "\n",
    "2. A datatset with the labels. In this version, we use resumentiempos2022 and resumentiempos2023 to get the labels.\n",
    "You cand find these files here s3://cortex-intl-andes-nppm-latam/totallossco/\n",
    "\n",
    "For new versions of the model you may need the 2024 file (ResumenTiemposEspecial  122024)\n",
    "You can download this file here https://libertymutual.sharepoint.com/sites/reportessiniestros/Shared%20Documents/Forms/AllItems.aspx?id=%2Fsites%2Freportessiniestros%2FShared%20Documents%2FFACT%5FTABLES%2FSIPO%2FTIEMPOS&p=true&originalPath=aHR0cHM6Ly9saWJlcnR5bXV0dWFsLnNoYXJlcG9pbnQuY29tLzpmOi9zL3JlcG9ydGVzc2luaWVzdHJvcy9Fc1dOV3ZxWlNHOUtxRTFueXAzd2ZNMEJmX3MwcnRQMzNrTFUwQlZiQl8wRUxRP3J0aW1lPTZiOG1tZ0lwMkVn\n",
    "\n",
    "If you do not have permissions, please can ask to LOPEZ, WILLIAM\n",
    "\n",
    "s3://cortex-intl-andes-nppm-latam/totallossco/historico_2019-01-02_2024-01-30.csv"
   ]
  },
  {
   "cell_type": "code",
   "execution_count": 7,
   "id": "45d97642-703b-45a1-9115-4eb33a075ed0",
   "metadata": {
    "tags": []
   },
   "outputs": [],
   "source": [
    "s3 = boto3.client('s3')\n",
    "s3.download_file('cortex-intl-andes-nppm-latam', 'totallossco/historico_2019-01-02_2024-01-30.csv', 'claims_data.csv')"
   ]
  },
  {
   "cell_type": "code",
   "execution_count": 8,
   "id": "a3de3635-9037-4d28-8ce2-c8d3ca359078",
   "metadata": {
    "tags": []
   },
   "outputs": [
    {
     "data": {
      "text/html": [
       "<div>\n",
       "<style scoped>\n",
       "    .dataframe tbody tr th:only-of-type {\n",
       "        vertical-align: middle;\n",
       "    }\n",
       "\n",
       "    .dataframe tbody tr th {\n",
       "        vertical-align: top;\n",
       "    }\n",
       "\n",
       "    .dataframe thead th {\n",
       "        text-align: right;\n",
       "    }\n",
       "</style>\n",
       "<table border=\"1\" class=\"dataframe\">\n",
       "  <thead>\n",
       "    <tr style=\"text-align: right;\">\n",
       "      <th></th>\n",
       "      <th>numero_siniestro</th>\n",
       "      <th>poliza_asociada</th>\n",
       "      <th>placa_vehiculo</th>\n",
       "      <th>cod_fasecolda</th>\n",
       "      <th>descripcion_riesgo</th>\n",
       "      <th>valor_vehiculo</th>\n",
       "      <th>documento</th>\n",
       "      <th>amparo</th>\n",
       "      <th>descripcion_deducible</th>\n",
       "      <th>valor_deducible</th>\n",
       "      <th>...</th>\n",
       "      <th>descripcion_marca</th>\n",
       "      <th>codigo_clase</th>\n",
       "      <th>descripcion_clase</th>\n",
       "      <th>codigo_tipo_vehiculo</th>\n",
       "      <th>descripcion_tipo_vehiculo</th>\n",
       "      <th>anio_modelo</th>\n",
       "      <th>departamento</th>\n",
       "      <th>municipio</th>\n",
       "      <th>tipo_declarante</th>\n",
       "      <th>fecha_proceso</th>\n",
       "    </tr>\n",
       "  </thead>\n",
       "  <tbody>\n",
       "    <tr>\n",
       "      <th>0</th>\n",
       "      <td>708396</td>\n",
       "      <td>213660</td>\n",
       "      <td>HMP692</td>\n",
       "      <td>8006033</td>\n",
       "      <td>HMP692 - RENAULT - DUSTER - EXPRESSIONMT 16</td>\n",
       "      <td>35800000.0</td>\n",
       "      <td>2</td>\n",
       "      <td>760</td>\n",
       "      <td>Deducible Pérdida Parcial Daños</td>\n",
       "      <td>10% con un mínimo de 1 SMMLV</td>\n",
       "      <td>...</td>\n",
       "      <td>RENAULT</td>\n",
       "      <td>6</td>\n",
       "      <td>CAMIONETA PASAJ.</td>\n",
       "      <td>33</td>\n",
       "      <td>DUSTER</td>\n",
       "      <td>2014</td>\n",
       "      <td>Valle del Cauca</td>\n",
       "      <td>PALMIRA</td>\n",
       "      <td>Afiliado</td>\n",
       "      <td>2019-01-02</td>\n",
       "    </tr>\n",
       "    <tr>\n",
       "      <th>1</th>\n",
       "      <td>708397</td>\n",
       "      <td>253699</td>\n",
       "      <td>MOU497</td>\n",
       "      <td>9201121</td>\n",
       "      <td>MOU497 - VOLKSWAGEN - JETTA [5] - TRENDLINETP 200</td>\n",
       "      <td>25700000.0</td>\n",
       "      <td>3</td>\n",
       "      <td>760</td>\n",
       "      <td>Deducible Pérdida Parcial Daños</td>\n",
       "      <td>10% con un mínimo de 1 SMMLV</td>\n",
       "      <td>...</td>\n",
       "      <td>VOLKSWAGEN</td>\n",
       "      <td>1</td>\n",
       "      <td>AUTOMOVIL</td>\n",
       "      <td>121</td>\n",
       "      <td>JETTA [5]</td>\n",
       "      <td>2010</td>\n",
       "      <td>Antioquia</td>\n",
       "      <td>MEDELLÍN</td>\n",
       "      <td>Afiliado</td>\n",
       "      <td>2019-01-02</td>\n",
       "    </tr>\n",
       "  </tbody>\n",
       "</table>\n",
       "<p>2 rows × 29 columns</p>\n",
       "</div>"
      ],
      "text/plain": [
       "   numero_siniestro  poliza_asociada placa_vehiculo  cod_fasecolda  \\\n",
       "0            708396           213660         HMP692        8006033   \n",
       "1            708397           253699         MOU497        9201121   \n",
       "\n",
       "                                  descripcion_riesgo  valor_vehiculo  \\\n",
       "0        HMP692 - RENAULT - DUSTER - EXPRESSIONMT 16      35800000.0   \n",
       "1  MOU497 - VOLKSWAGEN - JETTA [5] - TRENDLINETP 200      25700000.0   \n",
       "\n",
       "   documento  amparo            descripcion_deducible  \\\n",
       "0          2     760  Deducible Pérdida Parcial Daños   \n",
       "1          3     760  Deducible Pérdida Parcial Daños   \n",
       "\n",
       "                valor_deducible  ... descripcion_marca codigo_clase  \\\n",
       "0  10% con un mínimo de 1 SMMLV  ...           RENAULT            6   \n",
       "1  10% con un mínimo de 1 SMMLV  ...        VOLKSWAGEN            1   \n",
       "\n",
       "  descripcion_clase codigo_tipo_vehiculo descripcion_tipo_vehiculo  \\\n",
       "0  CAMIONETA PASAJ.                   33                    DUSTER   \n",
       "1         AUTOMOVIL                  121                 JETTA [5]   \n",
       "\n",
       "  anio_modelo     departamento municipio  tipo_declarante fecha_proceso  \n",
       "0        2014  Valle del Cauca   PALMIRA         Afiliado    2019-01-02  \n",
       "1        2010        Antioquia  MEDELLÍN         Afiliado    2019-01-02  \n",
       "\n",
       "[2 rows x 29 columns]"
      ]
     },
     "execution_count": 8,
     "metadata": {},
     "output_type": "execute_result"
    }
   ],
   "source": [
    "data = pd.read_csv(\"claims_data.csv\")\n",
    "data.head(2)"
   ]
  },
  {
   "cell_type": "code",
   "execution_count": 9,
   "id": "eb67c64d-3ac2-4587-9412-94634fef8c74",
   "metadata": {
    "tags": []
   },
   "outputs": [
    {
     "data": {
      "text/plain": [
       "Index(['numero_siniestro', 'poliza_asociada', 'placa_vehiculo',\n",
       "       'cod_fasecolda', 'descripcion_riesgo', 'valor_vehiculo', 'documento',\n",
       "       'amparo', 'descripcion_deducible', 'valor_deducible',\n",
       "       'descripcion_siniestro', '1.- Sección delantera',\n",
       "       '2.- Lateral delantero izquierdo', '3.- Lateral delantero derecho',\n",
       "       '4.- Lateral trasero izquierdo', '5.- Lateral trasero derecho',\n",
       "       '6.- Sección posterior', '7.- Techo', 'codigo_marca',\n",
       "       'descripcion_marca', 'codigo_clase', 'descripcion_clase',\n",
       "       'codigo_tipo_vehiculo', 'descripcion_tipo_vehiculo', 'anio_modelo',\n",
       "       'departamento', 'municipio', 'tipo_declarante', 'fecha_proceso'],\n",
       "      dtype='object')"
      ]
     },
     "execution_count": 9,
     "metadata": {},
     "output_type": "execute_result"
    }
   ],
   "source": [
    "data.columns"
   ]
  },
  {
   "cell_type": "code",
   "execution_count": 10,
   "id": "1a28249a-948f-4a15-bc3c-d384328574c8",
   "metadata": {
    "tags": []
   },
   "outputs": [],
   "source": [
    "columns_to_keep = ['numero_siniestro', 'valor_vehiculo', 'valor_deducible',\n",
    "                   'descripcion_siniestro', '1.- Sección delantera',\n",
    "                   '2.- Lateral delantero izquierdo', '3.- Lateral delantero derecho',\n",
    "                   '4.- Lateral trasero izquierdo', '5.- Lateral trasero derecho',\n",
    "                   '6.- Sección posterior', '7.- Techo', 'codigo_marca', 'codigo_clase', \n",
    "                   'codigo_tipo_vehiculo', 'anio_modelo',\n",
    "                   'municipio', 'fecha_proceso'\n",
    "                  ]"
   ]
  },
  {
   "cell_type": "code",
   "execution_count": 11,
   "id": "40724349-bc53-49ad-831c-9d9e1e68dd72",
   "metadata": {
    "tags": []
   },
   "outputs": [
    {
     "data": {
      "text/plain": [
       "Index(['numero_siniestro', 'valor_vehiculo', 'valor_deducible',\n",
       "       'descripcion_siniestro', '1.- Sección delantera',\n",
       "       '2.- Lateral delantero izquierdo', '3.- Lateral delantero derecho',\n",
       "       '4.- Lateral trasero izquierdo', '5.- Lateral trasero derecho',\n",
       "       '6.- Sección posterior', '7.- Techo', 'codigo_marca', 'codigo_clase',\n",
       "       'codigo_tipo_vehiculo', 'anio_modelo', 'municipio', 'fecha_proceso'],\n",
       "      dtype='object')"
      ]
     },
     "execution_count": 11,
     "metadata": {},
     "output_type": "execute_result"
    }
   ],
   "source": [
    "data = data[columns_to_keep]\n",
    "data.columns"
   ]
  },
  {
   "cell_type": "code",
   "execution_count": 12,
   "id": "4c85ce28-ead9-4a01-b775-2484cbeb14fa",
   "metadata": {
    "tags": []
   },
   "outputs": [
    {
     "data": {
      "text/html": [
       "<div>\n",
       "<style scoped>\n",
       "    .dataframe tbody tr th:only-of-type {\n",
       "        vertical-align: middle;\n",
       "    }\n",
       "\n",
       "    .dataframe tbody tr th {\n",
       "        vertical-align: top;\n",
       "    }\n",
       "\n",
       "    .dataframe thead th {\n",
       "        text-align: right;\n",
       "    }\n",
       "</style>\n",
       "<table border=\"1\" class=\"dataframe\">\n",
       "  <thead>\n",
       "    <tr style=\"text-align: right;\">\n",
       "      <th></th>\n",
       "      <th>numero_siniestro</th>\n",
       "      <th>valor_vehiculo</th>\n",
       "      <th>valor_deducible</th>\n",
       "      <th>descripcion_siniestro</th>\n",
       "      <th>1.- Sección delantera</th>\n",
       "      <th>2.- Lateral delantero izquierdo</th>\n",
       "      <th>3.- Lateral delantero derecho</th>\n",
       "      <th>4.- Lateral trasero izquierdo</th>\n",
       "      <th>5.- Lateral trasero derecho</th>\n",
       "      <th>6.- Sección posterior</th>\n",
       "      <th>7.- Techo</th>\n",
       "      <th>codigo_marca</th>\n",
       "      <th>codigo_clase</th>\n",
       "      <th>codigo_tipo_vehiculo</th>\n",
       "      <th>anio_modelo</th>\n",
       "      <th>municipio</th>\n",
       "      <th>fecha_proceso</th>\n",
       "    </tr>\n",
       "  </thead>\n",
       "  <tbody>\n",
       "    <tr>\n",
       "      <th>0</th>\n",
       "      <td>708396</td>\n",
       "      <td>35800000.0</td>\n",
       "      <td>10% con un mínimo de 1 SMMLV</td>\n",
       "      <td>DETALLE DE OCURRENCIA:El vehículo lo parqueo f...</td>\n",
       "      <td>X</td>\n",
       "      <td>NaN</td>\n",
       "      <td>NaN</td>\n",
       "      <td>X</td>\n",
       "      <td>X</td>\n",
       "      <td>X</td>\n",
       "      <td>X</td>\n",
       "      <td>80</td>\n",
       "      <td>6</td>\n",
       "      <td>33</td>\n",
       "      <td>2014</td>\n",
       "      <td>PALMIRA</td>\n",
       "      <td>2019-01-02</td>\n",
       "    </tr>\n",
       "    <tr>\n",
       "      <th>1</th>\n",
       "      <td>708397</td>\n",
       "      <td>25700000.0</td>\n",
       "      <td>10% con un mínimo de 1 SMMLV</td>\n",
       "      <td>Declaración:   IBA CONDUCIENDO SALE UN VH QUE ...</td>\n",
       "      <td>X</td>\n",
       "      <td>NaN</td>\n",
       "      <td>NaN</td>\n",
       "      <td>NaN</td>\n",
       "      <td>NaN</td>\n",
       "      <td>NaN</td>\n",
       "      <td>NaN</td>\n",
       "      <td>92</td>\n",
       "      <td>1</td>\n",
       "      <td>121</td>\n",
       "      <td>2010</td>\n",
       "      <td>MEDELLÍN</td>\n",
       "      <td>2019-01-02</td>\n",
       "    </tr>\n",
       "  </tbody>\n",
       "</table>\n",
       "</div>"
      ],
      "text/plain": [
       "   numero_siniestro  valor_vehiculo               valor_deducible  \\\n",
       "0            708396      35800000.0  10% con un mínimo de 1 SMMLV   \n",
       "1            708397      25700000.0  10% con un mínimo de 1 SMMLV   \n",
       "\n",
       "                               descripcion_siniestro 1.- Sección delantera  \\\n",
       "0  DETALLE DE OCURRENCIA:El vehículo lo parqueo f...                     X   \n",
       "1  Declaración:   IBA CONDUCIENDO SALE UN VH QUE ...                     X   \n",
       "\n",
       "  2.- Lateral delantero izquierdo 3.- Lateral delantero derecho  \\\n",
       "0                             NaN                           NaN   \n",
       "1                             NaN                           NaN   \n",
       "\n",
       "  4.- Lateral trasero izquierdo 5.- Lateral trasero derecho  \\\n",
       "0                             X                           X   \n",
       "1                           NaN                         NaN   \n",
       "\n",
       "  6.- Sección posterior 7.- Techo  codigo_marca  codigo_clase  \\\n",
       "0                     X         X            80             6   \n",
       "1                   NaN       NaN            92             1   \n",
       "\n",
       "   codigo_tipo_vehiculo  anio_modelo municipio fecha_proceso  \n",
       "0                    33         2014   PALMIRA    2019-01-02  \n",
       "1                   121         2010  MEDELLÍN    2019-01-02  "
      ]
     },
     "execution_count": 12,
     "metadata": {},
     "output_type": "execute_result"
    }
   ],
   "source": [
    "data.head(2)"
   ]
  },
  {
   "cell_type": "code",
   "execution_count": 13,
   "id": "85b0b5d1-4c9c-477d-891e-e09db88989cd",
   "metadata": {
    "tags": []
   },
   "outputs": [],
   "source": [
    "data['anio'] = pd.to_datetime(data['fecha_proceso']).dt.year\n",
    "data['mes'] = pd.to_datetime(data['fecha_proceso']).dt.month"
   ]
  },
  {
   "cell_type": "code",
   "execution_count": 14,
   "id": "8a4396ed-98f3-4715-b61a-bcc295c43d06",
   "metadata": {},
   "outputs": [
    {
     "data": {
      "text/plain": [
       "2022    22096\n",
       "2021    20679\n",
       "2023    19735\n",
       "2019    16559\n",
       "2020    14815\n",
       "2024     1565\n",
       "Name: anio, dtype: int64"
      ]
     },
     "execution_count": 14,
     "metadata": {},
     "output_type": "execute_result"
    }
   ],
   "source": [
    "data['anio'].value_counts(dropna=False)"
   ]
  },
  {
   "cell_type": "markdown",
   "id": "4adbe65d-22f6-481f-81cd-74900afa3de5",
   "metadata": {},
   "source": [
    "In this version we are only using 2022 and mid 2023 data for training the model"
   ]
  },
  {
   "cell_type": "code",
   "execution_count": 14,
   "id": "cd8920ec-e68a-4291-afe5-64137d801c50",
   "metadata": {
    "tags": []
   },
   "outputs": [],
   "source": [
    "data = data[(data['anio']>=2022) & (data['anio']<2024)]"
   ]
  },
  {
   "cell_type": "code",
   "execution_count": 15,
   "id": "1bb9457b-608a-423b-b473-72a21920a709",
   "metadata": {
    "tags": []
   },
   "outputs": [],
   "source": [
    "data = data.drop(data[(data['anio']==2023) & (data['mes']>=8) & (data['mes']<=12)].index)"
   ]
  },
  {
   "cell_type": "code",
   "execution_count": 16,
   "id": "b5609755-d29e-4653-b97b-63609c17c126",
   "metadata": {
    "tags": []
   },
   "outputs": [
    {
     "data": {
      "text/plain": [
       "2022    22096\n",
       "2023    11648\n",
       "Name: anio, dtype: int64"
      ]
     },
     "execution_count": 16,
     "metadata": {},
     "output_type": "execute_result"
    }
   ],
   "source": [
    "data['anio'].value_counts(dropna=False)"
   ]
  },
  {
   "cell_type": "code",
   "execution_count": 17,
   "id": "a6c93a1d-24d9-424d-aca1-e25eb87b8cb0",
   "metadata": {
    "tags": []
   },
   "outputs": [],
   "source": [
    "data.reset_index(drop=True, inplace=True)"
   ]
  },
  {
   "cell_type": "code",
   "execution_count": 18,
   "id": "f0436a86-e38c-411c-87fc-f15f897be014",
   "metadata": {
    "tags": []
   },
   "outputs": [
    {
     "data": {
      "text/html": [
       "<div>\n",
       "<style scoped>\n",
       "    .dataframe tbody tr th:only-of-type {\n",
       "        vertical-align: middle;\n",
       "    }\n",
       "\n",
       "    .dataframe tbody tr th {\n",
       "        vertical-align: top;\n",
       "    }\n",
       "\n",
       "    .dataframe thead th {\n",
       "        text-align: right;\n",
       "    }\n",
       "</style>\n",
       "<table border=\"1\" class=\"dataframe\">\n",
       "  <thead>\n",
       "    <tr style=\"text-align: right;\">\n",
       "      <th></th>\n",
       "      <th>numero_siniestro</th>\n",
       "      <th>valor_vehiculo</th>\n",
       "      <th>valor_deducible</th>\n",
       "      <th>descripcion_siniestro</th>\n",
       "      <th>1.- Sección delantera</th>\n",
       "      <th>2.- Lateral delantero izquierdo</th>\n",
       "      <th>3.- Lateral delantero derecho</th>\n",
       "      <th>4.- Lateral trasero izquierdo</th>\n",
       "      <th>5.- Lateral trasero derecho</th>\n",
       "      <th>6.- Sección posterior</th>\n",
       "      <th>7.- Techo</th>\n",
       "      <th>codigo_marca</th>\n",
       "      <th>codigo_clase</th>\n",
       "      <th>codigo_tipo_vehiculo</th>\n",
       "      <th>anio_modelo</th>\n",
       "      <th>municipio</th>\n",
       "    </tr>\n",
       "  </thead>\n",
       "  <tbody>\n",
       "    <tr>\n",
       "      <th>0</th>\n",
       "      <td>899767</td>\n",
       "      <td>68900000.0</td>\n",
       "      <td>10% con un mínímo de 6 SMMLV</td>\n",
       "      <td>El día primero (1) de enero de 2022, siendo ap...</td>\n",
       "      <td>X</td>\n",
       "      <td>X</td>\n",
       "      <td>X</td>\n",
       "      <td>X</td>\n",
       "      <td>X</td>\n",
       "      <td>X</td>\n",
       "      <td>X</td>\n",
       "      <td>16</td>\n",
       "      <td>12</td>\n",
       "      <td>138</td>\n",
       "      <td>2012</td>\n",
       "      <td>GRANADA</td>\n",
       "    </tr>\n",
       "    <tr>\n",
       "      <th>1</th>\n",
       "      <td>899768</td>\n",
       "      <td>73700000.0</td>\n",
       "      <td>$950.000</td>\n",
       "      <td>El vehículo venía de Istmina  Chocó a recogerm...</td>\n",
       "      <td>X</td>\n",
       "      <td>X</td>\n",
       "      <td>X</td>\n",
       "      <td>X</td>\n",
       "      <td>X</td>\n",
       "      <td>X</td>\n",
       "      <td>X</td>\n",
       "      <td>30</td>\n",
       "      <td>6</td>\n",
       "      <td>134</td>\n",
       "      <td>2020</td>\n",
       "      <td>PEREIRA</td>\n",
       "    </tr>\n",
       "    <tr>\n",
       "      <th>2</th>\n",
       "      <td>899770</td>\n",
       "      <td>85990000.0</td>\n",
       "      <td>$950.000</td>\n",
       "      <td>Yo estaba en un semáforo y sentí un impacto en...</td>\n",
       "      <td>NaN</td>\n",
       "      <td>NaN</td>\n",
       "      <td>NaN</td>\n",
       "      <td>X</td>\n",
       "      <td>NaN</td>\n",
       "      <td>X</td>\n",
       "      <td>NaN</td>\n",
       "      <td>42</td>\n",
       "      <td>6</td>\n",
       "      <td>64</td>\n",
       "      <td>2022</td>\n",
       "      <td>BOGOTÁ, D.C</td>\n",
       "    </tr>\n",
       "  </tbody>\n",
       "</table>\n",
       "</div>"
      ],
      "text/plain": [
       "   numero_siniestro  valor_vehiculo               valor_deducible  \\\n",
       "0            899767      68900000.0  10% con un mínímo de 6 SMMLV   \n",
       "1            899768      73700000.0                      $950.000   \n",
       "2            899770      85990000.0                      $950.000   \n",
       "\n",
       "                               descripcion_siniestro 1.- Sección delantera  \\\n",
       "0  El día primero (1) de enero de 2022, siendo ap...                     X   \n",
       "1  El vehículo venía de Istmina  Chocó a recogerm...                     X   \n",
       "2  Yo estaba en un semáforo y sentí un impacto en...                   NaN   \n",
       "\n",
       "  2.- Lateral delantero izquierdo 3.- Lateral delantero derecho  \\\n",
       "0                               X                             X   \n",
       "1                               X                             X   \n",
       "2                             NaN                           NaN   \n",
       "\n",
       "  4.- Lateral trasero izquierdo 5.- Lateral trasero derecho  \\\n",
       "0                             X                           X   \n",
       "1                             X                           X   \n",
       "2                             X                         NaN   \n",
       "\n",
       "  6.- Sección posterior 7.- Techo  codigo_marca  codigo_clase  \\\n",
       "0                     X         X            16            12   \n",
       "1                     X         X            30             6   \n",
       "2                     X       NaN            42             6   \n",
       "\n",
       "   codigo_tipo_vehiculo  anio_modelo    municipio  \n",
       "0                   138         2012      GRANADA  \n",
       "1                   134         2020      PEREIRA  \n",
       "2                    64         2022  BOGOTÁ, D.C  "
      ]
     },
     "execution_count": 18,
     "metadata": {},
     "output_type": "execute_result"
    }
   ],
   "source": [
    "data = data.drop(columns=[\"fecha_proceso\", \"anio\", \"mes\"])\n",
    "data.head(3)"
   ]
  },
  {
   "cell_type": "code",
   "execution_count": 19,
   "id": "8db71428-25cc-44ff-a4bd-ed815d5d5381",
   "metadata": {
    "tags": []
   },
   "outputs": [
    {
     "data": {
      "text/plain": [
       "33744"
      ]
     },
     "execution_count": 19,
     "metadata": {},
     "output_type": "execute_result"
    }
   ],
   "source": [
    "data.shape[0]"
   ]
  },
  {
   "cell_type": "markdown",
   "id": "59fd422f-11f1-4a95-95fb-280da0d51919",
   "metadata": {
    "tags": []
   },
   "source": [
    "Now we will create the database with the labels using the files ResumenTiemposEspecial  122022 and ResumenTiemposEspecial  122023 storage in s3://cortex-intl-andes-nppm-latam/totallossco"
   ]
  },
  {
   "cell_type": "markdown",
   "id": "5c76b2c1-eb19-4cb6-8f1b-9fe4511998f0",
   "metadata": {},
   "source": [
    "For new versions of the model you may need the 2024 file (ResumenTiemposEspecial  122024)\n",
    "You can download this file here https://libertymutual.sharepoint.com/sites/reportessiniestros/Shared%20Documents/Forms/AllItems.aspx?id=%2Fsites%2Freportessiniestros%2FShared%20Documents%2FFACT%5FTABLES%2FSIPO%2FTIEMPOS&p=true&originalPath=aHR0cHM6Ly9saWJlcnR5bXV0dWFsLnNoYXJlcG9pbnQuY29tLzpmOi9zL3JlcG9ydGVzc2luaWVzdHJvcy9Fc1dOV3ZxWlNHOUtxRTFueXAzd2ZNMEJmX3MwcnRQMzNrTFUwQlZiQl8wRUxRP3J0aW1lPTZiOG1tZ0lwMkVn\n",
    "\n",
    "If you do not have permissions, please can ask to LOPEZ, WILLIAM"
   ]
  },
  {
   "cell_type": "code",
   "execution_count": 20,
   "id": "0c7132ab-d5eb-4ac6-99a7-7609386524c7",
   "metadata": {
    "tags": []
   },
   "outputs": [],
   "source": [
    "s3.download_file('cortex-intl-andes-nppm-latam', 'totallossco/ResumenTiemposEspecial-%20122022.xlsx', 'resumentiempos2022.xlsx')\n",
    "s3.download_file('cortex-intl-andes-nppm-latam', 'totallossco/ResumenTiemposEspecial-%20122023.xlsx', 'resumentiempos2023.xlsx')"
   ]
  },
  {
   "cell_type": "code",
   "execution_count": 21,
   "id": "c45900fd-5591-47c1-bdb9-977b2132e4c5",
   "metadata": {
    "tags": []
   },
   "outputs": [],
   "source": [
    "columns_to_keep_resumentiempos = [\"Clave\", \"Amparo\", \"Siniestro\"]\n",
    "columns_to_rename_resumentiempos = {'Siniestro':'numero_siniestro'}\n",
    "\n",
    "resumentiempos2022 = pd.read_excel(\"resumentiempos2022.xlsx\")[columns_to_keep_resumentiempos].rename(columns=columns_to_rename_resumentiempos)\n",
    "resumentiempos2023 = pd.read_excel(\"resumentiempos2023.xlsx\")[columns_to_keep_resumentiempos].rename(columns=columns_to_rename_resumentiempos)"
   ]
  },
  {
   "cell_type": "code",
   "execution_count": 22,
   "id": "e7bed715-312f-477f-b5a0-60703abeccb7",
   "metadata": {
    "tags": []
   },
   "outputs": [
    {
     "data": {
      "text/html": [
       "<div>\n",
       "<style scoped>\n",
       "    .dataframe tbody tr th:only-of-type {\n",
       "        vertical-align: middle;\n",
       "    }\n",
       "\n",
       "    .dataframe tbody tr th {\n",
       "        vertical-align: top;\n",
       "    }\n",
       "\n",
       "    .dataframe thead th {\n",
       "        text-align: right;\n",
       "    }\n",
       "</style>\n",
       "<table border=\"1\" class=\"dataframe\">\n",
       "  <thead>\n",
       "    <tr style=\"text-align: right;\">\n",
       "      <th></th>\n",
       "      <th>Clave</th>\n",
       "      <th>Amparo</th>\n",
       "      <th>numero_siniestro</th>\n",
       "    </tr>\n",
       "  </thead>\n",
       "  <tbody>\n",
       "    <tr>\n",
       "      <th>0</th>\n",
       "      <td>724478</td>\n",
       "      <td>PPD</td>\n",
       "      <td>899767</td>\n",
       "    </tr>\n",
       "    <tr>\n",
       "      <th>1</th>\n",
       "      <td>724479</td>\n",
       "      <td>PTD</td>\n",
       "      <td>899768</td>\n",
       "    </tr>\n",
       "  </tbody>\n",
       "</table>\n",
       "</div>"
      ],
      "text/plain": [
       "    Clave Amparo numero_siniestro\n",
       "0  724478    PPD           899767\n",
       "1  724479    PTD           899768"
      ]
     },
     "execution_count": 22,
     "metadata": {},
     "output_type": "execute_result"
    }
   ],
   "source": [
    "resumentiempos2022.head(2)"
   ]
  },
  {
   "cell_type": "code",
   "execution_count": 23,
   "id": "3fbfc1fa-7882-4a07-a95c-df59587c874e",
   "metadata": {
    "tags": []
   },
   "outputs": [
    {
     "name": "stderr",
     "output_type": "stream",
     "text": [
      "/tmp/ipykernel_3950/904119157.py:1: FutureWarning: The frame.append method is deprecated and will be removed from pandas in a future version. Use pandas.concat instead.\n",
      "  resumentiempos = resumentiempos2023.append(resumentiempos2022, ignore_index = True)\n"
     ]
    }
   ],
   "source": [
    "resumentiempos = resumentiempos2023.append(resumentiempos2022, ignore_index = True)"
   ]
  },
  {
   "cell_type": "code",
   "execution_count": 24,
   "id": "75f270d8-b411-45c1-9d8f-6b67677f67bc",
   "metadata": {
    "tags": []
   },
   "outputs": [
    {
     "data": {
      "text/plain": [
       "Clave                int64\n",
       "Amparo              object\n",
       "numero_siniestro    object\n",
       "dtype: object"
      ]
     },
     "execution_count": 24,
     "metadata": {},
     "output_type": "execute_result"
    }
   ],
   "source": [
    "resumentiempos.dtypes"
   ]
  },
  {
   "cell_type": "code",
   "execution_count": 25,
   "id": "1aef8dcc-6d66-403e-a1e7-c34902d531c1",
   "metadata": {
    "tags": []
   },
   "outputs": [
    {
     "data": {
      "text/plain": [
       "67251"
      ]
     },
     "execution_count": 25,
     "metadata": {},
     "output_type": "execute_result"
    }
   ],
   "source": [
    "resumentiempos.shape[0]"
   ]
  },
  {
   "cell_type": "code",
   "execution_count": 26,
   "id": "57e1513e-a79b-4e22-a429-0f59def58960",
   "metadata": {
    "tags": []
   },
   "outputs": [
    {
     "data": {
      "text/plain": [
       "0"
      ]
     },
     "execution_count": 26,
     "metadata": {},
     "output_type": "execute_result"
    }
   ],
   "source": [
    "resumentiempos['numero_siniestro'].isnull().sum()"
   ]
  },
  {
   "cell_type": "code",
   "execution_count": 27,
   "id": "ac32f4cd-9289-4618-978d-6e6c6b058ee5",
   "metadata": {
    "tags": []
   },
   "outputs": [
    {
     "data": {
      "text/plain": [
       "67251"
      ]
     },
     "execution_count": 27,
     "metadata": {},
     "output_type": "execute_result"
    }
   ],
   "source": [
    "resumentiempos['numero_siniestro'] = resumentiempos['numero_siniestro'].str.extract('(\\d+)')\n",
    "resumentiempos.shape[0]"
   ]
  },
  {
   "cell_type": "code",
   "execution_count": 28,
   "id": "528121b3-3d59-4c27-a02f-62ed94812a1e",
   "metadata": {
    "tags": []
   },
   "outputs": [],
   "source": [
    "resumentiempos['numero_siniestro'] = pd.to_numeric(resumentiempos['numero_siniestro'], downcast = 'integer')"
   ]
  },
  {
   "cell_type": "code",
   "execution_count": 29,
   "id": "600436a3-3090-4052-955d-7d863c01e9ab",
   "metadata": {
    "tags": []
   },
   "outputs": [
    {
     "data": {
      "text/plain": [
       "Clave                int64\n",
       "Amparo              object\n",
       "numero_siniestro     int64\n",
       "dtype: object"
      ]
     },
     "execution_count": 29,
     "metadata": {},
     "output_type": "execute_result"
    }
   ],
   "source": [
    "resumentiempos.dtypes"
   ]
  },
  {
   "cell_type": "code",
   "execution_count": 30,
   "id": "13cc78d6-1549-44cc-8050-b66e97917d23",
   "metadata": {
    "tags": []
   },
   "outputs": [],
   "source": [
    "amparos = [\"PPD\", \"PTD\"]"
   ]
  },
  {
   "cell_type": "code",
   "execution_count": 31,
   "id": "47ee6f3e-8f71-4f4b-ae78-55d3c895abfe",
   "metadata": {
    "tags": []
   },
   "outputs": [],
   "source": [
    "resumentiempos = resumentiempos[resumentiempos['Amparo'].isin(amparos)]"
   ]
  },
  {
   "cell_type": "code",
   "execution_count": 32,
   "id": "c4c8b5f6-10cd-42e4-a833-7e58fe23ebcb",
   "metadata": {
    "tags": []
   },
   "outputs": [],
   "source": [
    "resumentiempos['label'] = [1 if x == 'PTD' else 0 for x in resumentiempos['Amparo']]"
   ]
  },
  {
   "cell_type": "code",
   "execution_count": 33,
   "id": "5848efce-ac4c-4e55-8535-672972d06397",
   "metadata": {
    "tags": []
   },
   "outputs": [
    {
     "data": {
      "text/plain": [
       "Clave                int64\n",
       "Amparo              object\n",
       "numero_siniestro     int64\n",
       "label                int64\n",
       "dtype: object"
      ]
     },
     "execution_count": 33,
     "metadata": {},
     "output_type": "execute_result"
    }
   ],
   "source": [
    "resumentiempos.dtypes"
   ]
  },
  {
   "cell_type": "code",
   "execution_count": 34,
   "id": "77826dbf-8afa-4465-91f5-0665d0f486e5",
   "metadata": {
    "tags": []
   },
   "outputs": [
    {
     "data": {
      "text/plain": [
       "0    39286\n",
       "1     2987\n",
       "Name: label, dtype: int64"
      ]
     },
     "execution_count": 34,
     "metadata": {},
     "output_type": "execute_result"
    }
   ],
   "source": [
    "resumentiempos['label'].value_counts()"
   ]
  },
  {
   "cell_type": "code",
   "execution_count": 35,
   "id": "b2ad3434-0269-4a4b-b9a9-67ca02eb203e",
   "metadata": {
    "tags": []
   },
   "outputs": [
    {
     "data": {
      "text/plain": [
       "PPD    39286\n",
       "PTD     2987\n",
       "Name: Amparo, dtype: int64"
      ]
     },
     "execution_count": 35,
     "metadata": {},
     "output_type": "execute_result"
    }
   ],
   "source": [
    "resumentiempos['Amparo'].value_counts()"
   ]
  },
  {
   "cell_type": "code",
   "execution_count": 36,
   "id": "d06515fe-687f-48d8-9228-7a1bf3afb6ae",
   "metadata": {
    "tags": []
   },
   "outputs": [
    {
     "name": "stdout",
     "output_type": "stream",
     "text": [
      "There are 2987 total losses in the dataset\n"
     ]
    }
   ],
   "source": [
    "print(f\"There are {len(resumentiempos[resumentiempos['label']==1])} total losses in the dataset\")"
   ]
  },
  {
   "cell_type": "code",
   "execution_count": 37,
   "id": "687c43a8-6546-440b-8421-23a853139f07",
   "metadata": {
    "tags": []
   },
   "outputs": [],
   "source": [
    "data = data.merge(resumentiempos[[\"numero_siniestro\", \"label\"]], on = \"numero_siniestro\", how = \"left\")"
   ]
  },
  {
   "cell_type": "code",
   "execution_count": 38,
   "id": "06522743-10a7-4687-b603-55650a7358f3",
   "metadata": {},
   "outputs": [
    {
     "data": {
      "text/plain": [
       "33773"
      ]
     },
     "execution_count": 38,
     "metadata": {},
     "output_type": "execute_result"
    }
   ],
   "source": [
    "data.shape[0]"
   ]
  },
  {
   "cell_type": "code",
   "execution_count": 39,
   "id": "b9eaf8db-f94b-45c8-acf9-5997ff3121bd",
   "metadata": {
    "tags": []
   },
   "outputs": [],
   "source": [
    "data = data[data['label'].notna()]"
   ]
  },
  {
   "cell_type": "code",
   "execution_count": 40,
   "id": "a8ca4ade-c566-4750-8883-0eb7bd7b9a32",
   "metadata": {
    "tags": []
   },
   "outputs": [
    {
     "data": {
      "text/plain": [
       "33137"
      ]
     },
     "execution_count": 40,
     "metadata": {},
     "output_type": "execute_result"
    }
   ],
   "source": [
    "data.shape[0]"
   ]
  },
  {
   "cell_type": "code",
   "execution_count": 41,
   "id": "aa6dc8aa-78ea-4da5-9a72-b1bd57770bb9",
   "metadata": {
    "tags": []
   },
   "outputs": [
    {
     "data": {
      "text/plain": [
       "33009"
      ]
     },
     "execution_count": 41,
     "metadata": {},
     "output_type": "execute_result"
    }
   ],
   "source": [
    "data.drop_duplicates(\"numero_siniestro\", keep=False, inplace=True)\n",
    "data.shape[0]"
   ]
  },
  {
   "cell_type": "code",
   "execution_count": 42,
   "id": "98a8990f-f288-498b-bc86-8dad497c1036",
   "metadata": {
    "tags": []
   },
   "outputs": [
    {
     "data": {
      "text/plain": [
       "0.07016268290466236"
      ]
     },
     "execution_count": 42,
     "metadata": {},
     "output_type": "execute_result"
    }
   ],
   "source": [
    "data['label'].mean()"
   ]
  },
  {
   "cell_type": "code",
   "execution_count": 43,
   "id": "2a803152-00d2-40a7-bfb8-83c27a86baf4",
   "metadata": {
    "tags": []
   },
   "outputs": [
    {
     "data": {
      "text/html": [
       "<div>\n",
       "<style scoped>\n",
       "    .dataframe tbody tr th:only-of-type {\n",
       "        vertical-align: middle;\n",
       "    }\n",
       "\n",
       "    .dataframe tbody tr th {\n",
       "        vertical-align: top;\n",
       "    }\n",
       "\n",
       "    .dataframe thead th {\n",
       "        text-align: right;\n",
       "    }\n",
       "</style>\n",
       "<table border=\"1\" class=\"dataframe\">\n",
       "  <thead>\n",
       "    <tr style=\"text-align: right;\">\n",
       "      <th></th>\n",
       "      <th>numero_siniestro</th>\n",
       "      <th>valor_vehiculo</th>\n",
       "      <th>valor_deducible</th>\n",
       "      <th>descripcion_siniestro</th>\n",
       "      <th>1.- Sección delantera</th>\n",
       "      <th>2.- Lateral delantero izquierdo</th>\n",
       "      <th>3.- Lateral delantero derecho</th>\n",
       "      <th>4.- Lateral trasero izquierdo</th>\n",
       "      <th>5.- Lateral trasero derecho</th>\n",
       "      <th>6.- Sección posterior</th>\n",
       "      <th>7.- Techo</th>\n",
       "      <th>codigo_marca</th>\n",
       "      <th>codigo_clase</th>\n",
       "      <th>codigo_tipo_vehiculo</th>\n",
       "      <th>anio_modelo</th>\n",
       "      <th>municipio</th>\n",
       "      <th>label</th>\n",
       "    </tr>\n",
       "  </thead>\n",
       "  <tbody>\n",
       "    <tr>\n",
       "      <th>0</th>\n",
       "      <td>899767</td>\n",
       "      <td>68900000.0</td>\n",
       "      <td>10% con un mínímo de 6 SMMLV</td>\n",
       "      <td>El día primero (1) de enero de 2022, siendo ap...</td>\n",
       "      <td>X</td>\n",
       "      <td>X</td>\n",
       "      <td>X</td>\n",
       "      <td>X</td>\n",
       "      <td>X</td>\n",
       "      <td>X</td>\n",
       "      <td>X</td>\n",
       "      <td>16</td>\n",
       "      <td>12</td>\n",
       "      <td>138</td>\n",
       "      <td>2012</td>\n",
       "      <td>GRANADA</td>\n",
       "      <td>0.0</td>\n",
       "    </tr>\n",
       "    <tr>\n",
       "      <th>1</th>\n",
       "      <td>899768</td>\n",
       "      <td>73700000.0</td>\n",
       "      <td>$950.000</td>\n",
       "      <td>El vehículo venía de Istmina  Chocó a recogerm...</td>\n",
       "      <td>X</td>\n",
       "      <td>X</td>\n",
       "      <td>X</td>\n",
       "      <td>X</td>\n",
       "      <td>X</td>\n",
       "      <td>X</td>\n",
       "      <td>X</td>\n",
       "      <td>30</td>\n",
       "      <td>6</td>\n",
       "      <td>134</td>\n",
       "      <td>2020</td>\n",
       "      <td>PEREIRA</td>\n",
       "      <td>1.0</td>\n",
       "    </tr>\n",
       "    <tr>\n",
       "      <th>2</th>\n",
       "      <td>899770</td>\n",
       "      <td>85990000.0</td>\n",
       "      <td>$950.000</td>\n",
       "      <td>Yo estaba en un semáforo y sentí un impacto en...</td>\n",
       "      <td>NaN</td>\n",
       "      <td>NaN</td>\n",
       "      <td>NaN</td>\n",
       "      <td>X</td>\n",
       "      <td>NaN</td>\n",
       "      <td>X</td>\n",
       "      <td>NaN</td>\n",
       "      <td>42</td>\n",
       "      <td>6</td>\n",
       "      <td>64</td>\n",
       "      <td>2022</td>\n",
       "      <td>BOGOTÁ, D.C</td>\n",
       "      <td>0.0</td>\n",
       "    </tr>\n",
       "  </tbody>\n",
       "</table>\n",
       "</div>"
      ],
      "text/plain": [
       "   numero_siniestro  valor_vehiculo               valor_deducible  \\\n",
       "0            899767      68900000.0  10% con un mínímo de 6 SMMLV   \n",
       "1            899768      73700000.0                      $950.000   \n",
       "2            899770      85990000.0                      $950.000   \n",
       "\n",
       "                               descripcion_siniestro 1.- Sección delantera  \\\n",
       "0  El día primero (1) de enero de 2022, siendo ap...                     X   \n",
       "1  El vehículo venía de Istmina  Chocó a recogerm...                     X   \n",
       "2  Yo estaba en un semáforo y sentí un impacto en...                   NaN   \n",
       "\n",
       "  2.- Lateral delantero izquierdo 3.- Lateral delantero derecho  \\\n",
       "0                               X                             X   \n",
       "1                               X                             X   \n",
       "2                             NaN                           NaN   \n",
       "\n",
       "  4.- Lateral trasero izquierdo 5.- Lateral trasero derecho  \\\n",
       "0                             X                           X   \n",
       "1                             X                           X   \n",
       "2                             X                         NaN   \n",
       "\n",
       "  6.- Sección posterior 7.- Techo  codigo_marca  codigo_clase  \\\n",
       "0                     X         X            16            12   \n",
       "1                     X         X            30             6   \n",
       "2                     X       NaN            42             6   \n",
       "\n",
       "   codigo_tipo_vehiculo  anio_modelo    municipio  label  \n",
       "0                   138         2012      GRANADA    0.0  \n",
       "1                   134         2020      PEREIRA    1.0  \n",
       "2                    64         2022  BOGOTÁ, D.C    0.0  "
      ]
     },
     "execution_count": 43,
     "metadata": {},
     "output_type": "execute_result"
    }
   ],
   "source": [
    "data.head(3)"
   ]
  },
  {
   "cell_type": "code",
   "execution_count": 44,
   "id": "a248ab03-9b3d-4e39-85ea-8fef535772c8",
   "metadata": {
    "tags": []
   },
   "outputs": [],
   "source": [
    "data['label'] = data['label'].astype(int)"
   ]
  },
  {
   "cell_type": "code",
   "execution_count": 45,
   "id": "d1923a24-f14b-4bf1-8b5d-5af4ad9e3f92",
   "metadata": {
    "tags": []
   },
   "outputs": [
    {
     "data": {
      "text/plain": [
       "numero_siniestro                     int64\n",
       "valor_vehiculo                     float64\n",
       "valor_deducible                     object\n",
       "descripcion_siniestro               object\n",
       "1.- Sección delantera               object\n",
       "2.- Lateral delantero izquierdo     object\n",
       "3.- Lateral delantero derecho       object\n",
       "4.- Lateral trasero izquierdo       object\n",
       "5.- Lateral trasero derecho         object\n",
       "6.- Sección posterior               object\n",
       "7.- Techo                           object\n",
       "codigo_marca                         int64\n",
       "codigo_clase                         int64\n",
       "codigo_tipo_vehiculo                 int64\n",
       "anio_modelo                          int64\n",
       "municipio                           object\n",
       "label                                int64\n",
       "dtype: object"
      ]
     },
     "execution_count": 45,
     "metadata": {},
     "output_type": "execute_result"
    }
   ],
   "source": [
    "data.dtypes"
   ]
  },
  {
   "cell_type": "code",
   "execution_count": 46,
   "id": "cd6b53f0-928d-48d4-93a8-2b0b4a20f44e",
   "metadata": {
    "tags": []
   },
   "outputs": [
    {
     "name": "stdout",
     "output_type": "stream",
     "text": [
      "The % of total losses is 7.016%\n"
     ]
    }
   ],
   "source": [
    "print(f\"The % of total losses is {data['label'].mean():.3%}\")"
   ]
  },
  {
   "cell_type": "markdown",
   "id": "ec64511d-11dd-4466-aaee-a8a6787acd5e",
   "metadata": {},
   "source": [
    "The number is on line with the historical value (6%-8%)"
   ]
  },
  {
   "cell_type": "code",
   "execution_count": 47,
   "id": "5949b709-cbf4-46b3-aaf7-0a5d29b7fba9",
   "metadata": {
    "tags": []
   },
   "outputs": [],
   "source": [
    "data.to_csv(\"data_totallossco.csv\", index = False)"
   ]
  },
  {
   "cell_type": "code",
   "execution_count": null,
   "id": "dfe6a21f-bff7-45bf-ae06-b75ab0b8035d",
   "metadata": {},
   "outputs": [],
   "source": [
    "#######################"
   ]
  }
 ],
 "metadata": {
  "kernelspec": {
   "display_name": "corc",
   "language": "python",
   "name": "corc"
  },
  "language_info": {
   "codemirror_mode": {
    "name": "ipython",
    "version": 3
   },
   "file_extension": ".py",
   "mimetype": "text/x-python",
   "name": "python",
   "nbconvert_exporter": "python",
   "pygments_lexer": "ipython3",
   "version": "3.10.14"
  }
 },
 "nbformat": 4,
 "nbformat_minor": 5
}
