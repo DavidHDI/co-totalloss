{
 "cells": [
  {
   "cell_type": "code",
   "execution_count": 1,
   "id": "c31f9a51-6a3f-46e6-9fd5-a9d8d56c62e3",
   "metadata": {
    "execution": {
     "iopub.execute_input": "2025-01-14T19:59:16.775500Z",
     "iopub.status.busy": "2025-01-14T19:59:16.775200Z",
     "iopub.status.idle": "2025-01-14T19:59:16.778311Z",
     "shell.execute_reply": "2025-01-14T19:59:16.777845Z"
    },
    "papermill": {
     "duration": 0.011097,
     "end_time": "2025-01-14T19:59:16.779160",
     "exception": false,
     "start_time": "2025-01-14T19:59:16.768063",
     "status": "completed"
    },
    "tags": []
   },
   "outputs": [],
   "source": [
    "# pip install pandas\n",
    "# pip install boto3\n",
    "# pip install fsspec\n",
    "# !pip install s3fs \n",
    "# !pip install nppm_latam_optuner\n"
   ]
  },
  {
   "cell_type": "code",
   "execution_count": 2,
   "id": "b26344e7-486c-48aa-a5ac-a869aa731307",
   "metadata": {
    "execution": {
     "iopub.execute_input": "2025-01-14T19:59:16.792788Z",
     "iopub.status.busy": "2025-01-14T19:59:16.792548Z",
     "iopub.status.idle": "2025-01-14T19:59:17.629830Z",
     "shell.execute_reply": "2025-01-14T19:59:17.629283Z"
    },
    "papermill": {
     "duration": 0.8448,
     "end_time": "2025-01-14T19:59:17.631001",
     "exception": false,
     "start_time": "2025-01-14T19:59:16.786201",
     "status": "completed"
    },
    "tags": []
   },
   "outputs": [],
   "source": [
    "import pandas as pd\n",
    "import numpy as np\n",
    "import boto3\n",
    "from datetime import datetime\n",
    "import re\n",
    "from datetime import timedelta\n",
    "from dateutil.relativedelta import relativedelta\n",
    "import joblib\n",
    "#from sklearn.metrics import average_precision_score"
   ]
  },
  {
   "cell_type": "code",
   "execution_count": 3,
   "id": "2dcde278-f8ce-4612-89d6-e8f8eff2958d",
   "metadata": {
    "execution": {
     "iopub.execute_input": "2025-01-14T19:59:17.643836Z",
     "iopub.status.busy": "2025-01-14T19:59:17.643478Z",
     "iopub.status.idle": "2025-01-14T19:59:17.646505Z",
     "shell.execute_reply": "2025-01-14T19:59:17.646039Z"
    },
    "papermill": {
     "duration": 0.010203,
     "end_time": "2025-01-14T19:59:17.647306",
     "exception": false,
     "start_time": "2025-01-14T19:59:17.637103",
     "status": "completed"
    },
    "tags": []
   },
   "outputs": [],
   "source": [
    "# previous_day = datetime.now() -  timedelta(days=1)\n",
    "# yesterday = previous_day.strftime(\"%d\")\n",
    "# month_yesterday = previous_day.strftime(\"%m\")\n",
    "# year_yesterday = previous_day.strftime(\"20%y\")\n",
    "# print(yesterday, month_yesterday, year_yesterday)\n",
    "\n",
    "# three_months_ago = datetime.now() -  relativedelta(months=2)\n",
    "# three_months_ago_day = int(three_months_ago.strftime(\"%d\"))\n",
    "# three_months_ago_day = three_months_ago_day + 1\n",
    "# #three_months_ago_day = \"0\" + str(three_months_ago_day)\n",
    "# three_months_ago_day = str(three_months_ago_day)\n",
    "# three_months_ago_month = three_months_ago.strftime(\"%m\")\n",
    "# three_months_ago_year = three_months_ago.strftime(\"20%y\")\n",
    "# print(three_months_ago_day, three_months_ago_month, three_months_ago_year)"
   ]
  },
  {
   "cell_type": "code",
   "execution_count": 4,
   "id": "65f2fe80-0ddf-480a-aae6-ac008655547e",
   "metadata": {
    "execution": {
     "iopub.execute_input": "2025-01-14T19:59:17.659418Z",
     "iopub.status.busy": "2025-01-14T19:59:17.659181Z",
     "iopub.status.idle": "2025-01-14T19:59:17.867524Z",
     "shell.execute_reply": "2025-01-14T19:59:17.866950Z"
    },
    "papermill": {
     "duration": 0.215683,
     "end_time": "2025-01-14T19:59:17.868685",
     "exception": false,
     "start_time": "2025-01-14T19:59:17.653002",
     "status": "completed"
    },
    "tags": []
   },
   "outputs": [],
   "source": [
    "s3 = boto3.client('s3')\n",
    "# s3.download_file('cortex-modeling-andes-local', 'epiphany-cortex/TABLA_DIARIO/diario_leakage_2024-08-01_2024-09-29.csv', 'diario_leakage_2024-08-01_2024-09-29.csv')\n",
    "# s3.download_file('cortex-modeling-andes-local', 'epiphany-cortex/TABLA_DIARIO/diario_leakage_{}-{}-{}_{}-{}-{}.csv'.format(three_months_ago_year, three_months_ago_month, three_months_ago_day, year_yesterday, month_yesterday, yesterday), 'diario_leakage_{}-{}-{}_{}-{}-{}.csv'.format(three_months_ago_year, three_months_ago_month, three_months_ago_day, year_yesterday, month_yesterday, yesterday))"
   ]
  },
  {
   "cell_type": "code",
   "execution_count": 5,
   "id": "341fa220-893f-48f9-975c-25568e12233a",
   "metadata": {
    "execution": {
     "iopub.execute_input": "2025-01-14T19:59:17.881203Z",
     "iopub.status.busy": "2025-01-14T19:59:17.880949Z",
     "iopub.status.idle": "2025-01-14T19:59:19.460334Z",
     "shell.execute_reply": "2025-01-14T19:59:19.459808Z"
    },
    "papermill": {
     "duration": 1.586523,
     "end_time": "2025-01-14T19:59:19.461214",
     "exception": false,
     "start_time": "2025-01-14T19:59:17.874691",
     "status": "completed"
    },
    "tags": []
   },
   "outputs": [
    {
     "name": "stdout",
     "output_type": "stream",
     "text": [
      "Descargando el archivo: s3://hdi-sagemaker-project-co/data-science/nppm-latam/fraude/daily_claims_colombia/daily_claims_colombia_danios_test/diario_leakage_2024-11-15_2025-01-13.csv\n"
     ]
    },
    {
     "name": "stdout",
     "output_type": "stream",
     "text": [
      "Completed 256.0 KiB/1.8 MiB (2.2 MiB/s) with 1 file(s) remaining\r",
      "Completed 512.0 KiB/1.8 MiB (4.4 MiB/s) with 1 file(s) remaining\r",
      "Completed 768.0 KiB/1.8 MiB (6.5 MiB/s) with 1 file(s) remaining\r",
      "Completed 1.0 MiB/1.8 MiB (8.6 MiB/s) with 1 file(s) remaining  \r",
      "Completed 1.2 MiB/1.8 MiB (10.6 MiB/s) with 1 file(s) remaining \r",
      "Completed 1.5 MiB/1.8 MiB (12.7 MiB/s) with 1 file(s) remaining \r",
      "Completed 1.8 MiB/1.8 MiB (14.6 MiB/s) with 1 file(s) remaining \r",
      "Completed 1.8 MiB/1.8 MiB (15.1 MiB/s) with 1 file(s) remaining \r",
      "download: s3://hdi-sagemaker-project-co/data-science/nppm-latam/fraude/daily_claims_colombia/daily_claims_colombia_danios_test/diario_leakage_2024-11-15_2025-01-13.csv to ./diario.csv\n",
      "Archivo descargado exitosamente como 'diario.csv'\n"
     ]
    }
   ],
   "source": [
    "import subprocess\n",
    "from datetime import datetime, timedelta\n",
    "# Configuración de fechas\n",
    "today = datetime.now().date()\n",
    "yesterday = today - timedelta(1)\n",
    "three_months_ago = yesterday - timedelta(59)\n",
    "# Generar el nombre del archivo basado en las fechas\n",
    "file_name = f'diario_leakage_{three_months_ago}_{yesterday}.csv'\n",
    "# Ruta en S3\n",
    "s3_folder = 's3://hdi-sagemaker-project-co/data-science/nppm-latam/fraude/daily_claims_colombia/daily_claims_colombia_danios_test/'\n",
    "# Comando para descargar usando AWS CLI\n",
    "try:\n",
    "    print(f\"Descargando el archivo: {s3_folder}{file_name}\")\n",
    "    subprocess.run(['aws', 's3', 'cp', f'{s3_folder}{file_name}', './diario.csv'], check=True)\n",
    "    print(\"Archivo descargado exitosamente como 'diario.csv'\")\n",
    "except subprocess.CalledProcessError as e:\n",
    "    print(f\"Error al descargar el archivo: {e}\")"
   ]
  },
  {
   "cell_type": "code",
   "execution_count": 6,
   "id": "7878ce3f-7abc-427d-a002-f8fdd5f0ef3f",
   "metadata": {
    "execution": {
     "iopub.execute_input": "2025-01-14T19:59:19.473986Z",
     "iopub.status.busy": "2025-01-14T19:59:19.473717Z",
     "iopub.status.idle": "2025-01-14T19:59:19.507287Z",
     "shell.execute_reply": "2025-01-14T19:59:19.506753Z"
    },
    "papermill": {
     "duration": 0.040891,
     "end_time": "2025-01-14T19:59:19.508269",
     "exception": false,
     "start_time": "2025-01-14T19:59:19.467378",
     "status": "completed"
    },
    "tags": []
   },
   "outputs": [],
   "source": [
    "data = pd.read_csv(\"diario.csv\")"
   ]
  },
  {
   "cell_type": "code",
   "execution_count": 7,
   "id": "fb2e21a5-7c50-49f3-89a8-4f51e2dba3f1",
   "metadata": {
    "execution": {
     "iopub.execute_input": "2025-01-14T19:59:19.520798Z",
     "iopub.status.busy": "2025-01-14T19:59:19.520540Z",
     "iopub.status.idle": "2025-01-14T19:59:19.523205Z",
     "shell.execute_reply": "2025-01-14T19:59:19.522725Z"
    },
    "papermill": {
     "duration": 0.009836,
     "end_time": "2025-01-14T19:59:19.524003",
     "exception": false,
     "start_time": "2025-01-14T19:59:19.514167",
     "status": "completed"
    },
    "tags": []
   },
   "outputs": [],
   "source": [
    "# # data = pd.read_csv(\"diario_leakage_2024-08-01_2024-09-29.csv\")\n",
    "# data = pd.read_csv('diario_leakage_{}-{}-{}_{}-{}-{}.csv'.format(three_months_ago_year, three_months_ago_month, three_months_ago_day, year_yesterday, month_yesterday, yesterday))\n",
    "# data.head(2)"
   ]
  },
  {
   "cell_type": "code",
   "execution_count": null,
   "id": "9233687c-00d0-4a16-ba09-6f319fdf04cd",
   "metadata": {
    "papermill": {
     "duration": 0.005704,
     "end_time": "2025-01-14T19:59:19.535463",
     "exception": false,
     "start_time": "2025-01-14T19:59:19.529759",
     "status": "completed"
    },
    "tags": []
   },
   "outputs": [],
   "source": []
  },
  {
   "cell_type": "code",
   "execution_count": 8,
   "id": "ae2a33a2-2954-4bc7-a2e6-80ff3fa3d96b",
   "metadata": {
    "execution": {
     "iopub.execute_input": "2025-01-14T19:59:19.547873Z",
     "iopub.status.busy": "2025-01-14T19:59:19.547587Z",
     "iopub.status.idle": "2025-01-14T19:59:19.550340Z",
     "shell.execute_reply": "2025-01-14T19:59:19.549867Z"
    },
    "papermill": {
     "duration": 0.009909,
     "end_time": "2025-01-14T19:59:19.551096",
     "exception": false,
     "start_time": "2025-01-14T19:59:19.541187",
     "status": "completed"
    },
    "tags": []
   },
   "outputs": [],
   "source": [
    "# data = pd.read_csv(\"s3://hdi-sagemaker-project-co/data-science/nppm-latam/fraude/daily_claims_colombia/daily_claims_colombia_danios_test/diario_leakage_2024-10-30_2024-12-17.csv\")"
   ]
  },
  {
   "cell_type": "code",
   "execution_count": 9,
   "id": "95711db6-0a75-4586-ba3c-24b8064231ab",
   "metadata": {
    "execution": {
     "iopub.execute_input": "2025-01-14T19:59:19.563327Z",
     "iopub.status.busy": "2025-01-14T19:59:19.563071Z",
     "iopub.status.idle": "2025-01-14T19:59:19.565632Z",
     "shell.execute_reply": "2025-01-14T19:59:19.565170Z"
    },
    "papermill": {
     "duration": 0.009604,
     "end_time": "2025-01-14T19:59:19.566433",
     "exception": false,
     "start_time": "2025-01-14T19:59:19.556829",
     "status": "completed"
    },
    "tags": []
   },
   "outputs": [],
   "source": [
    "#data.head(2)"
   ]
  },
  {
   "cell_type": "code",
   "execution_count": 10,
   "id": "64f70b99-c114-470e-bde4-2b25609d34d8",
   "metadata": {
    "execution": {
     "iopub.execute_input": "2025-01-14T19:59:19.578596Z",
     "iopub.status.busy": "2025-01-14T19:59:19.578381Z",
     "iopub.status.idle": "2025-01-14T19:59:19.590562Z",
     "shell.execute_reply": "2025-01-14T19:59:19.590077Z"
    },
    "papermill": {
     "duration": 0.019112,
     "end_time": "2025-01-14T19:59:19.591399",
     "exception": false,
     "start_time": "2025-01-14T19:59:19.572287",
     "status": "completed"
    },
    "tags": []
   },
   "outputs": [],
   "source": [
    "data['fecha_proceso_date'] = pd.to_datetime(data['fecha_proceso'])"
   ]
  },
  {
   "cell_type": "code",
   "execution_count": 11,
   "id": "0591fb35-64d7-4a64-bbef-17fd552c3dfe",
   "metadata": {
    "execution": {
     "iopub.execute_input": "2025-01-14T19:59:19.603831Z",
     "iopub.status.busy": "2025-01-14T19:59:19.603560Z",
     "iopub.status.idle": "2025-01-14T19:59:19.610097Z",
     "shell.execute_reply": "2025-01-14T19:59:19.609645Z"
    },
    "papermill": {
     "duration": 0.013651,
     "end_time": "2025-01-14T19:59:19.610893",
     "exception": false,
     "start_time": "2025-01-14T19:59:19.597242",
     "status": "completed"
    },
    "tags": []
   },
   "outputs": [
    {
     "data": {
      "text/plain": [
       "numero_siniestro                            int64\n",
       "poliza_asociada                             int64\n",
       "placa_vehiculo                             object\n",
       "cod_fasecolda                               int64\n",
       "descripcion_riesgo                         object\n",
       "valor_vehiculo                            float64\n",
       "documento                                   int64\n",
       "amparo                                      int64\n",
       "descripcion_deducible                      object\n",
       "valor_deducible                            object\n",
       "descripcion_siniestro                      object\n",
       "1.- Sección delantera                      object\n",
       "2.- Lateral delantero izquierdo            object\n",
       "3.- Lateral delantero derecho              object\n",
       "4.- Lateral trasero izquierdo              object\n",
       "5.- Lateral trasero derecho                object\n",
       "6.- Sección posterior                      object\n",
       "7.- Techo                                  object\n",
       "codigo_marca                                int64\n",
       "descripcion_marca                          object\n",
       "codigo_clase                                int64\n",
       "descripcion_clase                          object\n",
       "codigo_tipo_vehiculo                        int64\n",
       "descripcion_tipo_vehiculo                  object\n",
       "anio_modelo                                 int64\n",
       "departamento                               object\n",
       "municipio                                  object\n",
       "tipo_declarante                            object\n",
       "fecha_proceso                              object\n",
       "fecha_proceso_date                 datetime64[ns]\n",
       "dtype: object"
      ]
     },
     "execution_count": 11,
     "metadata": {},
     "output_type": "execute_result"
    }
   ],
   "source": [
    "data.dtypes"
   ]
  },
  {
   "cell_type": "code",
   "execution_count": 12,
   "id": "0085fcf3-8d3f-4eb1-a7a7-9d2e7ee199f6",
   "metadata": {
    "execution": {
     "iopub.execute_input": "2025-01-14T19:59:19.623350Z",
     "iopub.status.busy": "2025-01-14T19:59:19.623105Z",
     "iopub.status.idle": "2025-01-14T19:59:19.640787Z",
     "shell.execute_reply": "2025-01-14T19:59:19.640323Z"
    },
    "papermill": {
     "duration": 0.0248,
     "end_time": "2025-01-14T19:59:19.641593",
     "exception": false,
     "start_time": "2025-01-14T19:59:19.616793",
     "status": "completed"
    },
    "tags": []
   },
   "outputs": [
    {
     "data": {
      "text/html": [
       "<div>\n",
       "<style scoped>\n",
       "    .dataframe tbody tr th:only-of-type {\n",
       "        vertical-align: middle;\n",
       "    }\n",
       "\n",
       "    .dataframe tbody tr th {\n",
       "        vertical-align: top;\n",
       "    }\n",
       "\n",
       "    .dataframe thead th {\n",
       "        text-align: right;\n",
       "    }\n",
       "</style>\n",
       "<table border=\"1\" class=\"dataframe\">\n",
       "  <thead>\n",
       "    <tr style=\"text-align: right;\">\n",
       "      <th></th>\n",
       "      <th>numero_siniestro</th>\n",
       "      <th>poliza_asociada</th>\n",
       "      <th>placa_vehiculo</th>\n",
       "      <th>cod_fasecolda</th>\n",
       "      <th>descripcion_riesgo</th>\n",
       "      <th>valor_vehiculo</th>\n",
       "      <th>documento</th>\n",
       "      <th>amparo</th>\n",
       "      <th>descripcion_deducible</th>\n",
       "      <th>valor_deducible</th>\n",
       "      <th>...</th>\n",
       "      <th>codigo_clase</th>\n",
       "      <th>descripcion_clase</th>\n",
       "      <th>codigo_tipo_vehiculo</th>\n",
       "      <th>descripcion_tipo_vehiculo</th>\n",
       "      <th>anio_modelo</th>\n",
       "      <th>departamento</th>\n",
       "      <th>municipio</th>\n",
       "      <th>tipo_declarante</th>\n",
       "      <th>fecha_proceso</th>\n",
       "      <th>fecha_proceso_date</th>\n",
       "    </tr>\n",
       "  </thead>\n",
       "  <tbody>\n",
       "    <tr>\n",
       "      <th>0</th>\n",
       "      <td>1118803</td>\n",
       "      <td>516197</td>\n",
       "      <td>FPR887</td>\n",
       "      <td>9201247</td>\n",
       "      <td>FPR887 - VOLKSWAGEN - JETTA [7] - TSI COMFORTL...</td>\n",
       "      <td>66200000.0</td>\n",
       "      <td>1</td>\n",
       "      <td>760</td>\n",
       "      <td>PPD - Pérdida Parcial por Daños</td>\n",
       "      <td>0% con un mínímo de 1 SMMLV</td>\n",
       "      <td>...</td>\n",
       "      <td>1</td>\n",
       "      <td>AUTOMOVILES</td>\n",
       "      <td>247</td>\n",
       "      <td>JETTA</td>\n",
       "      <td>2019</td>\n",
       "      <td>Bogotá D.C</td>\n",
       "      <td>BOGOTÁ, D.C</td>\n",
       "      <td>Asegurado</td>\n",
       "      <td>2024-11-15</td>\n",
       "      <td>2024-11-15</td>\n",
       "    </tr>\n",
       "    <tr>\n",
       "      <th>1</th>\n",
       "      <td>1118808</td>\n",
       "      <td>94175852</td>\n",
       "      <td>REN631</td>\n",
       "      <td>601120</td>\n",
       "      <td>REN631 - AUDI - A4 - B8 1.8 TFSI ATT</td>\n",
       "      <td>43000000.0</td>\n",
       "      <td>3</td>\n",
       "      <td>760</td>\n",
       "      <td>Deducible Pérdida Parcial Daños</td>\n",
       "      <td>1 SMLV</td>\n",
       "      <td>...</td>\n",
       "      <td>1</td>\n",
       "      <td>AUTOMOVILES</td>\n",
       "      <td>120</td>\n",
       "      <td>AUDI-A4</td>\n",
       "      <td>2011</td>\n",
       "      <td>Bogotá D.C</td>\n",
       "      <td>BOGOTÁ, D.C</td>\n",
       "      <td>Asegurado</td>\n",
       "      <td>2024-11-15</td>\n",
       "      <td>2024-11-15</td>\n",
       "    </tr>\n",
       "  </tbody>\n",
       "</table>\n",
       "<p>2 rows × 30 columns</p>\n",
       "</div>"
      ],
      "text/plain": [
       "   numero_siniestro  poliza_asociada placa_vehiculo  cod_fasecolda  \\\n",
       "0           1118803           516197         FPR887        9201247   \n",
       "1           1118808         94175852         REN631         601120   \n",
       "\n",
       "                                  descripcion_riesgo  valor_vehiculo  \\\n",
       "0  FPR887 - VOLKSWAGEN - JETTA [7] - TSI COMFORTL...      66200000.0   \n",
       "1               REN631 - AUDI - A4 - B8 1.8 TFSI ATT      43000000.0   \n",
       "\n",
       "   documento  amparo            descripcion_deducible  \\\n",
       "0          1     760  PPD - Pérdida Parcial por Daños   \n",
       "1          3     760  Deducible Pérdida Parcial Daños   \n",
       "\n",
       "               valor_deducible  ... codigo_clase descripcion_clase  \\\n",
       "0  0% con un mínímo de 1 SMMLV  ...            1       AUTOMOVILES   \n",
       "1                       1 SMLV  ...            1       AUTOMOVILES   \n",
       "\n",
       "  codigo_tipo_vehiculo descripcion_tipo_vehiculo anio_modelo departamento  \\\n",
       "0                  247                     JETTA        2019   Bogotá D.C   \n",
       "1                  120                   AUDI-A4        2011   Bogotá D.C   \n",
       "\n",
       "     municipio tipo_declarante  fecha_proceso fecha_proceso_date  \n",
       "0  BOGOTÁ, D.C       Asegurado     2024-11-15         2024-11-15  \n",
       "1  BOGOTÁ, D.C       Asegurado     2024-11-15         2024-11-15  \n",
       "\n",
       "[2 rows x 30 columns]"
      ]
     },
     "execution_count": 12,
     "metadata": {},
     "output_type": "execute_result"
    }
   ],
   "source": [
    "data.head(2)"
   ]
  },
  {
   "cell_type": "code",
   "execution_count": 13,
   "id": "caa24487-94ba-4f51-90ff-90a887a38f17",
   "metadata": {
    "execution": {
     "iopub.execute_input": "2025-01-14T19:59:19.679925Z",
     "iopub.status.busy": "2025-01-14T19:59:19.679625Z",
     "iopub.status.idle": "2025-01-14T19:59:19.682294Z",
     "shell.execute_reply": "2025-01-14T19:59:19.681822Z"
    },
    "papermill": {
     "duration": 0.035341,
     "end_time": "2025-01-14T19:59:19.683094",
     "exception": false,
     "start_time": "2025-01-14T19:59:19.647753",
     "status": "completed"
    },
    "tags": []
   },
   "outputs": [],
   "source": [
    "#data = data[data['fecha_proceso_date'] >= '2024-02-12']\n",
    "#data.shape[0]"
   ]
  },
  {
   "cell_type": "code",
   "execution_count": 14,
   "id": "c9fbad0d-cfe1-4182-91f3-e3c7b105a26a",
   "metadata": {
    "execution": {
     "iopub.execute_input": "2025-01-14T19:59:19.696199Z",
     "iopub.status.busy": "2025-01-14T19:59:19.695942Z",
     "iopub.status.idle": "2025-01-14T19:59:19.699572Z",
     "shell.execute_reply": "2025-01-14T19:59:19.699086Z"
    },
    "papermill": {
     "duration": 0.011017,
     "end_time": "2025-01-14T19:59:19.700375",
     "exception": false,
     "start_time": "2025-01-14T19:59:19.689358",
     "status": "completed"
    },
    "tags": []
   },
   "outputs": [],
   "source": [
    "def claims_keep_by_date(data):\n",
    "    if datetime.today().weekday() == 0:\n",
    "        return data[data['fecha_proceso_date'] >= pd.to_datetime((datetime.today().date() - timedelta(days=30)))]\n",
    "    \n",
    "    else:\n",
    "        return data[data['fecha_proceso_date'] >= pd.to_datetime((datetime.today().date() - timedelta(days=80)))]"
   ]
  },
  {
   "cell_type": "code",
   "execution_count": 15,
   "id": "2005cc77-8e33-4689-ab62-523de47f4896",
   "metadata": {
    "execution": {
     "iopub.execute_input": "2025-01-14T19:59:19.713033Z",
     "iopub.status.busy": "2025-01-14T19:59:19.712811Z",
     "iopub.status.idle": "2025-01-14T19:59:19.718098Z",
     "shell.execute_reply": "2025-01-14T19:59:19.717629Z"
    },
    "papermill": {
     "duration": 0.012532,
     "end_time": "2025-01-14T19:59:19.718899",
     "exception": false,
     "start_time": "2025-01-14T19:59:19.706367",
     "status": "completed"
    },
    "tags": []
   },
   "outputs": [],
   "source": [
    "data = claims_keep_by_date(data)"
   ]
  },
  {
   "cell_type": "code",
   "execution_count": 16,
   "id": "5080f075-009d-4b1a-a16b-db0d7403843a",
   "metadata": {
    "execution": {
     "iopub.execute_input": "2025-01-14T19:59:19.731629Z",
     "iopub.status.busy": "2025-01-14T19:59:19.731396Z",
     "iopub.status.idle": "2025-01-14T19:59:19.738819Z",
     "shell.execute_reply": "2025-01-14T19:59:19.738371Z"
    },
    "papermill": {
     "duration": 0.014697,
     "end_time": "2025-01-14T19:59:19.739616",
     "exception": false,
     "start_time": "2025-01-14T19:59:19.724919",
     "status": "completed"
    },
    "tags": []
   },
   "outputs": [
    {
     "data": {
      "text/plain": [
       "2025-01-13    107\n",
       "2025-01-07    107\n",
       "2024-12-02    106\n",
       "2024-12-09     94\n",
       "2024-12-23     89\n",
       "2024-11-18     89\n",
       "2025-01-02     89\n",
       "2024-12-16     85\n",
       "2024-11-25     83\n",
       "2024-12-26     82\n",
       "2024-12-11     78\n",
       "2024-12-30     78\n",
       "2025-01-08     76\n",
       "2024-11-19     75\n",
       "2024-12-03     74\n",
       "2024-11-20     70\n",
       "2024-12-17     68\n",
       "2024-12-20     68\n",
       "2024-11-21     64\n",
       "2024-12-10     63\n",
       "2024-12-04     62\n",
       "2024-12-05     61\n",
       "2024-11-26     61\n",
       "2024-12-18     59\n",
       "2024-12-12     59\n",
       "2024-11-15     59\n",
       "2024-11-22     58\n",
       "2024-12-27     58\n",
       "2024-11-29     57\n",
       "2025-01-09     57\n",
       "2025-01-10     57\n",
       "2024-12-19     57\n",
       "2024-12-13     56\n",
       "2024-11-27     56\n",
       "2024-12-06     52\n",
       "2024-12-28     46\n",
       "2024-11-28     44\n",
       "2025-01-11     41\n",
       "2025-01-03     40\n",
       "2024-12-07     39\n",
       "2024-12-24     37\n",
       "2024-12-14     35\n",
       "2024-11-30     34\n",
       "2024-11-16     34\n",
       "2024-12-21     30\n",
       "2024-11-23     28\n",
       "2024-12-31     24\n",
       "2024-12-15     21\n",
       "2024-11-17     20\n",
       "2025-01-12     18\n",
       "2025-01-06     15\n",
       "2024-11-24     14\n",
       "2024-12-22     13\n",
       "2024-12-01     12\n",
       "2024-12-08     11\n",
       "2024-12-29     10\n",
       "2025-01-05      9\n",
       "2025-01-04      7\n",
       "2025-01-01      5\n",
       "2024-12-25      5\n",
       "Name: fecha_proceso_date, dtype: int64"
      ]
     },
     "execution_count": 16,
     "metadata": {},
     "output_type": "execute_result"
    }
   ],
   "source": [
    "data['fecha_proceso_date'].value_counts(dropna = False)"
   ]
  },
  {
   "cell_type": "code",
   "execution_count": 17,
   "id": "0ae3308c-3489-4aaf-8ca4-563d8908510a",
   "metadata": {
    "execution": {
     "iopub.execute_input": "2025-01-14T19:59:19.752393Z",
     "iopub.status.busy": "2025-01-14T19:59:19.752179Z",
     "iopub.status.idle": "2025-01-14T19:59:19.756112Z",
     "shell.execute_reply": "2025-01-14T19:59:19.755643Z"
    },
    "papermill": {
     "duration": 0.01121,
     "end_time": "2025-01-14T19:59:19.756880",
     "exception": false,
     "start_time": "2025-01-14T19:59:19.745670",
     "status": "completed"
    },
    "tags": []
   },
   "outputs": [],
   "source": [
    "data.drop(columns = ['fecha_proceso_date'], inplace = True)"
   ]
  },
  {
   "cell_type": "code",
   "execution_count": 18,
   "id": "7326dfe6-13f5-4033-a0cd-ec9cba53be99",
   "metadata": {
    "execution": {
     "iopub.execute_input": "2025-01-14T19:59:19.769646Z",
     "iopub.status.busy": "2025-01-14T19:59:19.769434Z",
     "iopub.status.idle": "2025-01-14T19:59:19.772052Z",
     "shell.execute_reply": "2025-01-14T19:59:19.771592Z"
    },
    "papermill": {
     "duration": 0.009908,
     "end_time": "2025-01-14T19:59:19.772807",
     "exception": false,
     "start_time": "2025-01-14T19:59:19.762899",
     "status": "completed"
    },
    "tags": []
   },
   "outputs": [],
   "source": [
    "data.reset_index(drop = True, inplace = True)"
   ]
  },
  {
   "cell_type": "code",
   "execution_count": 19,
   "id": "c2949b41-c589-4feb-9668-4c278a8b5373",
   "metadata": {
    "execution": {
     "iopub.execute_input": "2025-01-14T19:59:19.785646Z",
     "iopub.status.busy": "2025-01-14T19:59:19.785369Z",
     "iopub.status.idle": "2025-01-14T19:59:19.797994Z",
     "shell.execute_reply": "2025-01-14T19:59:19.797536Z"
    },
    "papermill": {
     "duration": 0.019954,
     "end_time": "2025-01-14T19:59:19.798787",
     "exception": false,
     "start_time": "2025-01-14T19:59:19.778833",
     "status": "completed"
    },
    "tags": []
   },
   "outputs": [
    {
     "data": {
      "text/html": [
       "<div>\n",
       "<style scoped>\n",
       "    .dataframe tbody tr th:only-of-type {\n",
       "        vertical-align: middle;\n",
       "    }\n",
       "\n",
       "    .dataframe tbody tr th {\n",
       "        vertical-align: top;\n",
       "    }\n",
       "\n",
       "    .dataframe thead th {\n",
       "        text-align: right;\n",
       "    }\n",
       "</style>\n",
       "<table border=\"1\" class=\"dataframe\">\n",
       "  <thead>\n",
       "    <tr style=\"text-align: right;\">\n",
       "      <th></th>\n",
       "      <th>numero_siniestro</th>\n",
       "      <th>poliza_asociada</th>\n",
       "      <th>placa_vehiculo</th>\n",
       "      <th>cod_fasecolda</th>\n",
       "      <th>descripcion_riesgo</th>\n",
       "      <th>valor_vehiculo</th>\n",
       "      <th>documento</th>\n",
       "      <th>amparo</th>\n",
       "      <th>descripcion_deducible</th>\n",
       "      <th>valor_deducible</th>\n",
       "      <th>...</th>\n",
       "      <th>descripcion_marca</th>\n",
       "      <th>codigo_clase</th>\n",
       "      <th>descripcion_clase</th>\n",
       "      <th>codigo_tipo_vehiculo</th>\n",
       "      <th>descripcion_tipo_vehiculo</th>\n",
       "      <th>anio_modelo</th>\n",
       "      <th>departamento</th>\n",
       "      <th>municipio</th>\n",
       "      <th>tipo_declarante</th>\n",
       "      <th>fecha_proceso</th>\n",
       "    </tr>\n",
       "  </thead>\n",
       "  <tbody>\n",
       "    <tr>\n",
       "      <th>0</th>\n",
       "      <td>1118803</td>\n",
       "      <td>516197</td>\n",
       "      <td>FPR887</td>\n",
       "      <td>9201247</td>\n",
       "      <td>FPR887 - VOLKSWAGEN - JETTA [7] - TSI COMFORTL...</td>\n",
       "      <td>66200000.0</td>\n",
       "      <td>1</td>\n",
       "      <td>760</td>\n",
       "      <td>PPD - Pérdida Parcial por Daños</td>\n",
       "      <td>0% con un mínímo de 1 SMMLV</td>\n",
       "      <td>...</td>\n",
       "      <td>VOLKSWAGEN</td>\n",
       "      <td>1</td>\n",
       "      <td>AUTOMOVILES</td>\n",
       "      <td>247</td>\n",
       "      <td>JETTA</td>\n",
       "      <td>2019</td>\n",
       "      <td>Bogotá D.C</td>\n",
       "      <td>BOGOTÁ, D.C</td>\n",
       "      <td>Asegurado</td>\n",
       "      <td>2024-11-15</td>\n",
       "    </tr>\n",
       "    <tr>\n",
       "      <th>1</th>\n",
       "      <td>1118808</td>\n",
       "      <td>94175852</td>\n",
       "      <td>REN631</td>\n",
       "      <td>601120</td>\n",
       "      <td>REN631 - AUDI - A4 - B8 1.8 TFSI ATT</td>\n",
       "      <td>43000000.0</td>\n",
       "      <td>3</td>\n",
       "      <td>760</td>\n",
       "      <td>Deducible Pérdida Parcial Daños</td>\n",
       "      <td>1 SMLV</td>\n",
       "      <td>...</td>\n",
       "      <td>AUDI</td>\n",
       "      <td>1</td>\n",
       "      <td>AUTOMOVILES</td>\n",
       "      <td>120</td>\n",
       "      <td>AUDI-A4</td>\n",
       "      <td>2011</td>\n",
       "      <td>Bogotá D.C</td>\n",
       "      <td>BOGOTÁ, D.C</td>\n",
       "      <td>Asegurado</td>\n",
       "      <td>2024-11-15</td>\n",
       "    </tr>\n",
       "  </tbody>\n",
       "</table>\n",
       "<p>2 rows × 29 columns</p>\n",
       "</div>"
      ],
      "text/plain": [
       "   numero_siniestro  poliza_asociada placa_vehiculo  cod_fasecolda  \\\n",
       "0           1118803           516197         FPR887        9201247   \n",
       "1           1118808         94175852         REN631         601120   \n",
       "\n",
       "                                  descripcion_riesgo  valor_vehiculo  \\\n",
       "0  FPR887 - VOLKSWAGEN - JETTA [7] - TSI COMFORTL...      66200000.0   \n",
       "1               REN631 - AUDI - A4 - B8 1.8 TFSI ATT      43000000.0   \n",
       "\n",
       "   documento  amparo            descripcion_deducible  \\\n",
       "0          1     760  PPD - Pérdida Parcial por Daños   \n",
       "1          3     760  Deducible Pérdida Parcial Daños   \n",
       "\n",
       "               valor_deducible  ... descripcion_marca codigo_clase  \\\n",
       "0  0% con un mínímo de 1 SMMLV  ...        VOLKSWAGEN            1   \n",
       "1                       1 SMLV  ...              AUDI            1   \n",
       "\n",
       "  descripcion_clase codigo_tipo_vehiculo descripcion_tipo_vehiculo  \\\n",
       "0       AUTOMOVILES                  247                     JETTA   \n",
       "1       AUTOMOVILES                  120                   AUDI-A4   \n",
       "\n",
       "  anio_modelo departamento    municipio  tipo_declarante fecha_proceso  \n",
       "0        2019   Bogotá D.C  BOGOTÁ, D.C        Asegurado    2024-11-15  \n",
       "1        2011   Bogotá D.C  BOGOTÁ, D.C        Asegurado    2024-11-15  \n",
       "\n",
       "[2 rows x 29 columns]"
      ]
     },
     "execution_count": 19,
     "metadata": {},
     "output_type": "execute_result"
    }
   ],
   "source": [
    "data.head(2)"
   ]
  },
  {
   "cell_type": "code",
   "execution_count": 20,
   "id": "8a8d4a9e-fad6-404f-98b8-de8f839aa7df",
   "metadata": {
    "execution": {
     "iopub.execute_input": "2025-01-14T19:59:19.812441Z",
     "iopub.status.busy": "2025-01-14T19:59:19.812211Z",
     "iopub.status.idle": "2025-01-14T19:59:19.815348Z",
     "shell.execute_reply": "2025-01-14T19:59:19.814871Z"
    },
    "papermill": {
     "duration": 0.010726,
     "end_time": "2025-01-14T19:59:19.816109",
     "exception": false,
     "start_time": "2025-01-14T19:59:19.805383",
     "status": "completed"
    },
    "tags": []
   },
   "outputs": [],
   "source": [
    "numero_de_siniestro = data.numero_siniestro\n",
    "valor_vehiculo = data.valor_vehiculo\n",
    "descripcion = data.descripcion_siniestro\n",
    "fecha = data.fecha_proceso\n",
    "placa = data.placa_vehiculo"
   ]
  },
  {
   "cell_type": "code",
   "execution_count": 21,
   "id": "1632607c-552c-440d-bdde-c0d599f784ff",
   "metadata": {
    "execution": {
     "iopub.execute_input": "2025-01-14T19:59:19.829358Z",
     "iopub.status.busy": "2025-01-14T19:59:19.829133Z",
     "iopub.status.idle": "2025-01-14T19:59:19.833247Z",
     "shell.execute_reply": "2025-01-14T19:59:19.832783Z"
    },
    "papermill": {
     "duration": 0.01164,
     "end_time": "2025-01-14T19:59:19.833986",
     "exception": false,
     "start_time": "2025-01-14T19:59:19.822346",
     "status": "completed"
    },
    "tags": []
   },
   "outputs": [],
   "source": [
    "columns_to_keep = ['valor_vehiculo', 'valor_deducible',\n",
    "                   'descripcion_siniestro', '1.- Sección delantera',\n",
    "                   '2.- Lateral delantero izquierdo', '3.- Lateral delantero derecho',\n",
    "                   '4.- Lateral trasero izquierdo', '5.- Lateral trasero derecho',\n",
    "                   '6.- Sección posterior', '7.- Techo', 'codigo_marca', 'codigo_clase', \n",
    "                   'codigo_tipo_vehiculo', 'anio_modelo',\n",
    "                   'municipio']\n",
    "                  \n",
    "data = data[columns_to_keep]"
   ]
  },
  {
   "cell_type": "code",
   "execution_count": 22,
   "id": "8d00adb2-67cc-424a-b38e-de2b4d1037ec",
   "metadata": {
    "execution": {
     "iopub.execute_input": "2025-01-14T19:59:19.847253Z",
     "iopub.status.busy": "2025-01-14T19:59:19.847012Z",
     "iopub.status.idle": "2025-01-14T19:59:19.861418Z",
     "shell.execute_reply": "2025-01-14T19:59:19.860947Z"
    },
    "papermill": {
     "duration": 0.021987,
     "end_time": "2025-01-14T19:59:19.862230",
     "exception": false,
     "start_time": "2025-01-14T19:59:19.840243",
     "status": "completed"
    },
    "tags": []
   },
   "outputs": [
    {
     "data": {
      "text/plain": [
       "array(['0 con un minimo de 1 smmlv', '1 smlv', '10 min 1 smlv',\n",
       "       '0 con un minimo de 700.000', '2 smlv',\n",
       "       '10 con un minimo de 1 smmlv', '10 min 4 smlv', '0',\n",
       "       '20 con un minimo de 4 smmlv', '950.000',\n",
       "       '0 con un minimo de 1.5 smmlv', '10 con un minimo de 3 smmlv',\n",
       "       '20 con un minimo de 6 smmlv', '10 min 2 smlv',\n",
       "       '10 con un minimo de 2 smmlv', '15 con un minimo de 10 smmlv',\n",
       "       '10 min 1.2 smlv', '10 con un minimo de 1.5 smmlv',\n",
       "       '10 min 5 smlv', '20 con un minimo de 0 smmlv', '3 smlv',\n",
       "       '30 con un minimo de 2 smmlv', '10 min 3 smlv',\n",
       "       '10 con un minimo de 4 smmlv', '20 con un minimo de 3 smmlv',\n",
       "       '1.1 smlv', '15 con un minimo de 4 smmlv', None,\n",
       "       '10 con un minimo de 0 smmlv', 'sin deducible', '700.000',\n",
       "       '30 min 3 smlv', '0 con un minimo de 1.200.000',\n",
       "       '15 con un minimo de 0 smmlv', '20 min 2 smlv',\n",
       "       '20 con un minimo de 2 smmlv'], dtype=object)"
      ]
     },
     "execution_count": 22,
     "metadata": {},
     "output_type": "execute_result"
    }
   ],
   "source": [
    "def normalize_text(value): \n",
    "    if pd.isna(value):\n",
    "        return None\n",
    "\n",
    "    # Lowercase, remove extra spaces, and standardize similar terms\n",
    "    value = value.lower().strip()\n",
    "    value = value.replace('í', 'i').replace(',', '.').replace('%', '').replace('$', '')\n",
    "    value = value.strip()\n",
    "    value = re.sub(r'\\s+', ' ', value)  # Replace multiple spaces with a single space\n",
    "\n",
    "    return value\n",
    "\n",
    "# Apply the normalization function to the 'valor_deducible' column\n",
    "data['valor_deducible_normalized'] = data['valor_deducible'].apply(normalize_text)\n",
    "\n",
    "# Display unique normalized values for verification\n",
    "normalized_unique_values = data['valor_deducible_normalized'].unique()\n",
    "normalized_unique_values"
   ]
  },
  {
   "cell_type": "code",
   "execution_count": 23,
   "id": "31afe0d2-eb6b-4ea7-af2d-e1434a23e48c",
   "metadata": {
    "execution": {
     "iopub.execute_input": "2025-01-14T19:59:19.875852Z",
     "iopub.status.busy": "2025-01-14T19:59:19.875603Z",
     "iopub.status.idle": "2025-01-14T19:59:19.878395Z",
     "shell.execute_reply": "2025-01-14T19:59:19.877938Z"
    },
    "papermill": {
     "duration": 0.010455,
     "end_time": "2025-01-14T19:59:19.879173",
     "exception": false,
     "start_time": "2025-01-14T19:59:19.868718",
     "status": "completed"
    },
    "tags": []
   },
   "outputs": [],
   "source": [
    "columns_to_encoder = ['1.- Sección delantera',\n",
    "       '2.- Lateral delantero izquierdo', '3.- Lateral delantero derecho',\n",
    "       '4.- Lateral trasero izquierdo', '5.- Lateral trasero derecho',\n",
    "       '6.- Sección posterior', '7.- Techo']"
   ]
  },
  {
   "cell_type": "code",
   "execution_count": 24,
   "id": "84a31281-ae2a-4e88-9fe0-1d7e0a3b8493",
   "metadata": {
    "execution": {
     "iopub.execute_input": "2025-01-14T19:59:19.892519Z",
     "iopub.status.busy": "2025-01-14T19:59:19.892299Z",
     "iopub.status.idle": "2025-01-14T19:59:19.904200Z",
     "shell.execute_reply": "2025-01-14T19:59:19.903727Z"
    },
    "papermill": {
     "duration": 0.019534,
     "end_time": "2025-01-14T19:59:19.905027",
     "exception": false,
     "start_time": "2025-01-14T19:59:19.885493",
     "status": "completed"
    },
    "tags": []
   },
   "outputs": [],
   "source": [
    "for c in columns_to_encoder:\n",
    "    data[c] = data[c].apply(lambda x: 1 if x == \"X\" else 0)"
   ]
  },
  {
   "cell_type": "code",
   "execution_count": 25,
   "id": "1bdb8571-c4ea-491f-bab8-6d7b68bdb45d",
   "metadata": {
    "execution": {
     "iopub.execute_input": "2025-01-14T19:59:19.918653Z",
     "iopub.status.busy": "2025-01-14T19:59:19.918417Z",
     "iopub.status.idle": "2025-01-14T19:59:19.923042Z",
     "shell.execute_reply": "2025-01-14T19:59:19.922581Z"
    },
    "papermill": {
     "duration": 0.01227,
     "end_time": "2025-01-14T19:59:19.923854",
     "exception": false,
     "start_time": "2025-01-14T19:59:19.911584",
     "status": "completed"
    },
    "tags": []
   },
   "outputs": [],
   "source": [
    "data['num_partes_afectadas'] = data[columns_to_encoder].sum(axis=1)"
   ]
  },
  {
   "cell_type": "code",
   "execution_count": 26,
   "id": "8c07a44e-497e-4f5a-a8a1-8647b329fe2e",
   "metadata": {
    "execution": {
     "iopub.execute_input": "2025-01-14T19:59:19.937363Z",
     "iopub.status.busy": "2025-01-14T19:59:19.937121Z",
     "iopub.status.idle": "2025-01-14T19:59:19.940862Z",
     "shell.execute_reply": "2025-01-14T19:59:19.940395Z"
    },
    "papermill": {
     "duration": 0.011453,
     "end_time": "2025-01-14T19:59:19.941642",
     "exception": false,
     "start_time": "2025-01-14T19:59:19.930189",
     "status": "completed"
    },
    "tags": []
   },
   "outputs": [],
   "source": [
    "data = data.drop(columns = ['valor_deducible'])"
   ]
  },
  {
   "cell_type": "code",
   "execution_count": 27,
   "id": "dd3c6252-80ca-4507-b35f-460ba3f8a561",
   "metadata": {
    "execution": {
     "iopub.execute_input": "2025-01-14T19:59:19.955072Z",
     "iopub.status.busy": "2025-01-14T19:59:19.954836Z",
     "iopub.status.idle": "2025-01-14T19:59:19.958168Z",
     "shell.execute_reply": "2025-01-14T19:59:19.957700Z"
    },
    "papermill": {
     "duration": 0.010949,
     "end_time": "2025-01-14T19:59:19.958934",
     "exception": false,
     "start_time": "2025-01-14T19:59:19.947985",
     "status": "completed"
    },
    "tags": []
   },
   "outputs": [],
   "source": [
    "data.rename(columns = {'valor_deducible_normalized': 'valor_deducible'}, inplace = True)"
   ]
  },
  {
   "cell_type": "code",
   "execution_count": 28,
   "id": "0e51b583-fc79-40d8-b18b-7fde90ab0196",
   "metadata": {
    "execution": {
     "iopub.execute_input": "2025-01-14T19:59:19.972446Z",
     "iopub.status.busy": "2025-01-14T19:59:19.972208Z",
     "iopub.status.idle": "2025-01-14T19:59:19.976776Z",
     "shell.execute_reply": "2025-01-14T19:59:19.976323Z"
    },
    "papermill": {
     "duration": 0.012288,
     "end_time": "2025-01-14T19:59:19.977579",
     "exception": false,
     "start_time": "2025-01-14T19:59:19.965291",
     "status": "completed"
    },
    "tags": []
   },
   "outputs": [
    {
     "data": {
      "text/plain": [
       "valor_vehiculo                     float64\n",
       "descripcion_siniestro               object\n",
       "1.- Sección delantera                int64\n",
       "2.- Lateral delantero izquierdo      int64\n",
       "3.- Lateral delantero derecho        int64\n",
       "4.- Lateral trasero izquierdo        int64\n",
       "5.- Lateral trasero derecho          int64\n",
       "6.- Sección posterior                int64\n",
       "7.- Techo                            int64\n",
       "codigo_marca                         int64\n",
       "codigo_clase                         int64\n",
       "codigo_tipo_vehiculo                 int64\n",
       "anio_modelo                          int64\n",
       "municipio                           object\n",
       "valor_deducible                     object\n",
       "num_partes_afectadas                 int64\n",
       "dtype: object"
      ]
     },
     "execution_count": 28,
     "metadata": {},
     "output_type": "execute_result"
    }
   ],
   "source": [
    "data.dtypes"
   ]
  },
  {
   "cell_type": "code",
   "execution_count": 29,
   "id": "7eb58864-8337-4762-acb4-2bf463a546cc",
   "metadata": {
    "execution": {
     "iopub.execute_input": "2025-01-14T19:59:19.991242Z",
     "iopub.status.busy": "2025-01-14T19:59:19.990979Z",
     "iopub.status.idle": "2025-01-14T19:59:19.999922Z",
     "shell.execute_reply": "2025-01-14T19:59:19.999450Z"
    },
    "papermill": {
     "duration": 0.016705,
     "end_time": "2025-01-14T19:59:20.000731",
     "exception": false,
     "start_time": "2025-01-14T19:59:19.984026",
     "status": "completed"
    },
    "tags": []
   },
   "outputs": [
    {
     "data": {
      "text/html": [
       "<div>\n",
       "<style scoped>\n",
       "    .dataframe tbody tr th:only-of-type {\n",
       "        vertical-align: middle;\n",
       "    }\n",
       "\n",
       "    .dataframe tbody tr th {\n",
       "        vertical-align: top;\n",
       "    }\n",
       "\n",
       "    .dataframe thead th {\n",
       "        text-align: right;\n",
       "    }\n",
       "</style>\n",
       "<table border=\"1\" class=\"dataframe\">\n",
       "  <thead>\n",
       "    <tr style=\"text-align: right;\">\n",
       "      <th></th>\n",
       "      <th>valor_vehiculo</th>\n",
       "      <th>descripcion_siniestro</th>\n",
       "      <th>1.- Sección delantera</th>\n",
       "      <th>2.- Lateral delantero izquierdo</th>\n",
       "      <th>3.- Lateral delantero derecho</th>\n",
       "      <th>4.- Lateral trasero izquierdo</th>\n",
       "      <th>5.- Lateral trasero derecho</th>\n",
       "      <th>6.- Sección posterior</th>\n",
       "      <th>7.- Techo</th>\n",
       "      <th>codigo_marca</th>\n",
       "      <th>codigo_clase</th>\n",
       "      <th>codigo_tipo_vehiculo</th>\n",
       "      <th>anio_modelo</th>\n",
       "      <th>municipio</th>\n",
       "      <th>valor_deducible</th>\n",
       "      <th>num_partes_afectadas</th>\n",
       "    </tr>\n",
       "  </thead>\n",
       "  <tbody>\n",
       "    <tr>\n",
       "      <th>0</th>\n",
       "      <td>66200000.0</td>\n",
       "      <td>Iba conduciendo por la calle 116 entre la carr...</td>\n",
       "      <td>1</td>\n",
       "      <td>0</td>\n",
       "      <td>0</td>\n",
       "      <td>0</td>\n",
       "      <td>0</td>\n",
       "      <td>0</td>\n",
       "      <td>0</td>\n",
       "      <td>92</td>\n",
       "      <td>1</td>\n",
       "      <td>247</td>\n",
       "      <td>2019</td>\n",
       "      <td>BOGOTÁ, D.C</td>\n",
       "      <td>0 con un minimo de 1 smmlv</td>\n",
       "      <td>1</td>\n",
       "    </tr>\n",
       "    <tr>\n",
       "      <th>1</th>\n",
       "      <td>43000000.0</td>\n",
       "      <td>VENIAMOS POR LA BOYACA SE VA ATOMAR OREJA PARA...</td>\n",
       "      <td>1</td>\n",
       "      <td>1</td>\n",
       "      <td>0</td>\n",
       "      <td>0</td>\n",
       "      <td>0</td>\n",
       "      <td>0</td>\n",
       "      <td>0</td>\n",
       "      <td>6</td>\n",
       "      <td>1</td>\n",
       "      <td>120</td>\n",
       "      <td>2011</td>\n",
       "      <td>BOGOTÁ, D.C</td>\n",
       "      <td>1 smlv</td>\n",
       "      <td>2</td>\n",
       "    </tr>\n",
       "  </tbody>\n",
       "</table>\n",
       "</div>"
      ],
      "text/plain": [
       "   valor_vehiculo                              descripcion_siniestro  \\\n",
       "0      66200000.0  Iba conduciendo por la calle 116 entre la carr...   \n",
       "1      43000000.0  VENIAMOS POR LA BOYACA SE VA ATOMAR OREJA PARA...   \n",
       "\n",
       "   1.- Sección delantera  2.- Lateral delantero izquierdo  \\\n",
       "0                      1                                0   \n",
       "1                      1                                1   \n",
       "\n",
       "   3.- Lateral delantero derecho  4.- Lateral trasero izquierdo  \\\n",
       "0                              0                              0   \n",
       "1                              0                              0   \n",
       "\n",
       "   5.- Lateral trasero derecho  6.- Sección posterior  7.- Techo  \\\n",
       "0                            0                      0          0   \n",
       "1                            0                      0          0   \n",
       "\n",
       "   codigo_marca  codigo_clase  codigo_tipo_vehiculo  anio_modelo    municipio  \\\n",
       "0            92             1                   247         2019  BOGOTÁ, D.C   \n",
       "1             6             1                   120         2011  BOGOTÁ, D.C   \n",
       "\n",
       "              valor_deducible  num_partes_afectadas  \n",
       "0  0 con un minimo de 1 smmlv                     1  \n",
       "1                      1 smlv                     2  "
      ]
     },
     "execution_count": 29,
     "metadata": {},
     "output_type": "execute_result"
    }
   ],
   "source": [
    "data.head(2)"
   ]
  },
  {
   "cell_type": "code",
   "execution_count": 30,
   "id": "39218498-e38d-404b-8999-c9671cfd2167",
   "metadata": {
    "execution": {
     "iopub.execute_input": "2025-01-14T19:59:20.015103Z",
     "iopub.status.busy": "2025-01-14T19:59:20.014841Z",
     "iopub.status.idle": "2025-01-14T19:59:20.018542Z",
     "shell.execute_reply": "2025-01-14T19:59:20.018082Z"
    },
    "papermill": {
     "duration": 0.01178,
     "end_time": "2025-01-14T19:59:20.019378",
     "exception": false,
     "start_time": "2025-01-14T19:59:20.007598",
     "status": "completed"
    },
    "tags": []
   },
   "outputs": [
    {
     "data": {
      "text/plain": [
       "3106"
      ]
     },
     "execution_count": 30,
     "metadata": {},
     "output_type": "execute_result"
    }
   ],
   "source": [
    "data.shape[0]"
   ]
  },
  {
   "cell_type": "code",
   "execution_count": 31,
   "id": "019796e6-f1fc-4922-adda-774d1d7c895d",
   "metadata": {
    "execution": {
     "iopub.execute_input": "2025-01-14T19:59:20.033674Z",
     "iopub.status.busy": "2025-01-14T19:59:20.033432Z",
     "iopub.status.idle": "2025-01-14T19:59:20.036139Z",
     "shell.execute_reply": "2025-01-14T19:59:20.035671Z"
    },
    "papermill": {
     "duration": 0.01069,
     "end_time": "2025-01-14T19:59:20.036919",
     "exception": false,
     "start_time": "2025-01-14T19:59:20.026229",
     "status": "completed"
    },
    "tags": []
   },
   "outputs": [],
   "source": [
    "from typing import List, Dict"
   ]
  },
  {
   "cell_type": "code",
   "execution_count": 32,
   "id": "356dbfc2-1be2-43eb-98c7-6f371c30b113",
   "metadata": {
    "execution": {
     "iopub.execute_input": "2025-01-14T19:59:20.051045Z",
     "iopub.status.busy": "2025-01-14T19:59:20.050804Z",
     "iopub.status.idle": "2025-01-14T19:59:56.164631Z",
     "shell.execute_reply": "2025-01-14T19:59:56.163963Z"
    },
    "papermill": {
     "duration": 36.128068,
     "end_time": "2025-01-14T19:59:56.171643",
     "exception": false,
     "start_time": "2025-01-14T19:59:20.043575",
     "status": "completed"
    },
    "tags": []
   },
   "outputs": [
    {
     "name": "stderr",
     "output_type": "stream",
     "text": [
      "/home/ec2-user/SageMaker/totalloss_Liberty/totalloss/lib/python3.10/site-packages/tqdm/auto.py:21: TqdmWarning: IProgress not found. Please update jupyter and ipywidgets. See https://ipywidgets.readthedocs.io/en/stable/user_install.html\n",
      "  from .autonotebook import tqdm as notebook_tqdm\n"
     ]
    },
    {
     "data": {
      "text/plain": [
       "nppm_latam_optuner.optuner.OptunedModel"
      ]
     },
     "execution_count": 32,
     "metadata": {},
     "output_type": "execute_result"
    }
   ],
   "source": [
    "optuned_model = joblib.load('co_totalloss.joblib')\n",
    "type(optuned_model)"
   ]
  },
  {
   "cell_type": "code",
   "execution_count": 33,
   "id": "03e56769-d6f7-4576-a642-554c64a6ac7d",
   "metadata": {
    "execution": {
     "iopub.execute_input": "2025-01-14T19:59:56.186414Z",
     "iopub.status.busy": "2025-01-14T19:59:56.186099Z",
     "iopub.status.idle": "2025-01-14T19:59:56.190187Z",
     "shell.execute_reply": "2025-01-14T19:59:56.189732Z"
    },
    "papermill": {
     "duration": 0.012398,
     "end_time": "2025-01-14T19:59:56.191020",
     "exception": false,
     "start_time": "2025-01-14T19:59:56.178622",
     "status": "completed"
    },
    "tags": []
   },
   "outputs": [
    {
     "data": {
      "text/plain": [
       "<nppm_latam_optuner.optuner.OptunedModel at 0x7f5b5e7d7ca0>"
      ]
     },
     "execution_count": 33,
     "metadata": {},
     "output_type": "execute_result"
    }
   ],
   "source": [
    "optuned_model"
   ]
  },
  {
   "cell_type": "code",
   "execution_count": 34,
   "id": "12e1929f-799a-46cb-bf15-cf8683c46324",
   "metadata": {
    "execution": {
     "iopub.execute_input": "2025-01-14T19:59:56.205355Z",
     "iopub.status.busy": "2025-01-14T19:59:56.205135Z",
     "iopub.status.idle": "2025-01-14T19:59:56.208232Z",
     "shell.execute_reply": "2025-01-14T19:59:56.207754Z"
    },
    "papermill": {
     "duration": 0.011208,
     "end_time": "2025-01-14T19:59:56.209083",
     "exception": false,
     "start_time": "2025-01-14T19:59:56.197875",
     "status": "completed"
    },
    "tags": []
   },
   "outputs": [
    {
     "name": "stdout",
     "output_type": "stream",
     "text": [
      "Versión actual de scikit-learn: 1.1.2\n"
     ]
    }
   ],
   "source": [
    "import sklearn\n",
    "print(\"Versión actual de scikit-learn:\", sklearn.__version__)"
   ]
  },
  {
   "cell_type": "code",
   "execution_count": 35,
   "id": "74b17e0e-1d16-4ad3-a94f-6babb374bab7",
   "metadata": {
    "execution": {
     "iopub.execute_input": "2025-01-14T19:59:56.223480Z",
     "iopub.status.busy": "2025-01-14T19:59:56.223256Z",
     "iopub.status.idle": "2025-01-14T19:59:56.226319Z",
     "shell.execute_reply": "2025-01-14T19:59:56.225850Z"
    },
    "papermill": {
     "duration": 0.011214,
     "end_time": "2025-01-14T19:59:56.227152",
     "exception": false,
     "start_time": "2025-01-14T19:59:56.215938",
     "status": "completed"
    },
    "tags": []
   },
   "outputs": [
    {
     "name": "stdout",
     "output_type": "stream",
     "text": [
      "Versión actual de joblib: 1.2.0\n"
     ]
    }
   ],
   "source": [
    "import joblib\n",
    "print(\"Versión actual de joblib:\", joblib.__version__)"
   ]
  },
  {
   "cell_type": "code",
   "execution_count": 36,
   "id": "19c873aa-7073-4e60-b078-7ce046014d4e",
   "metadata": {
    "execution": {
     "iopub.execute_input": "2025-01-14T19:59:56.241586Z",
     "iopub.status.busy": "2025-01-14T19:59:56.241356Z",
     "iopub.status.idle": "2025-01-14T19:59:58.970277Z",
     "shell.execute_reply": "2025-01-14T19:59:58.969733Z"
    },
    "papermill": {
     "duration": 2.737196,
     "end_time": "2025-01-14T19:59:58.971216",
     "exception": false,
     "start_time": "2025-01-14T19:59:56.234020",
     "status": "completed"
    },
    "scrolled": true,
    "tags": []
   },
   "outputs": [
    {
     "data": {
      "text/plain": [
       "((3106, 16), (3106, 2))"
      ]
     },
     "execution_count": 36,
     "metadata": {},
     "output_type": "execute_result"
    }
   ],
   "source": [
    "#probas = optuned_model.predict_proba(data)[:,1]\n",
    "probas = optuned_model.predict_proba(data)\n",
    "\n",
    "data.shape, probas.shape"
   ]
  },
  {
   "cell_type": "code",
   "execution_count": 37,
   "id": "32196df9-9fad-4152-9603-9c4329049c63",
   "metadata": {
    "execution": {
     "iopub.execute_input": "2025-01-14T19:59:58.986538Z",
     "iopub.status.busy": "2025-01-14T19:59:58.986281Z",
     "iopub.status.idle": "2025-01-14T19:59:58.995741Z",
     "shell.execute_reply": "2025-01-14T19:59:58.995258Z"
    },
    "papermill": {
     "duration": 0.017929,
     "end_time": "2025-01-14T19:59:58.996583",
     "exception": false,
     "start_time": "2025-01-14T19:59:58.978654",
     "status": "completed"
    },
    "tags": []
   },
   "outputs": [
    {
     "data": {
      "text/html": [
       "<div>\n",
       "<style scoped>\n",
       "    .dataframe tbody tr th:only-of-type {\n",
       "        vertical-align: middle;\n",
       "    }\n",
       "\n",
       "    .dataframe tbody tr th {\n",
       "        vertical-align: top;\n",
       "    }\n",
       "\n",
       "    .dataframe thead th {\n",
       "        text-align: right;\n",
       "    }\n",
       "</style>\n",
       "<table border=\"1\" class=\"dataframe\">\n",
       "  <thead>\n",
       "    <tr style=\"text-align: right;\">\n",
       "      <th></th>\n",
       "      <th>valor_vehiculo</th>\n",
       "      <th>descripcion_siniestro</th>\n",
       "      <th>1.- Sección delantera</th>\n",
       "      <th>2.- Lateral delantero izquierdo</th>\n",
       "      <th>3.- Lateral delantero derecho</th>\n",
       "      <th>4.- Lateral trasero izquierdo</th>\n",
       "      <th>5.- Lateral trasero derecho</th>\n",
       "      <th>6.- Sección posterior</th>\n",
       "      <th>7.- Techo</th>\n",
       "      <th>codigo_marca</th>\n",
       "      <th>codigo_clase</th>\n",
       "      <th>codigo_tipo_vehiculo</th>\n",
       "      <th>anio_modelo</th>\n",
       "      <th>municipio</th>\n",
       "      <th>valor_deducible</th>\n",
       "      <th>num_partes_afectadas</th>\n",
       "    </tr>\n",
       "  </thead>\n",
       "  <tbody>\n",
       "    <tr>\n",
       "      <th>0</th>\n",
       "      <td>66200000.0</td>\n",
       "      <td>Iba conduciendo por la calle 116 entre la carr...</td>\n",
       "      <td>1</td>\n",
       "      <td>0</td>\n",
       "      <td>0</td>\n",
       "      <td>0</td>\n",
       "      <td>0</td>\n",
       "      <td>0</td>\n",
       "      <td>0</td>\n",
       "      <td>92</td>\n",
       "      <td>1</td>\n",
       "      <td>247</td>\n",
       "      <td>2019</td>\n",
       "      <td>BOGOTÁ, D.C</td>\n",
       "      <td>0 con un minimo de 1 smmlv</td>\n",
       "      <td>1</td>\n",
       "    </tr>\n",
       "    <tr>\n",
       "      <th>1</th>\n",
       "      <td>43000000.0</td>\n",
       "      <td>VENIAMOS POR LA BOYACA SE VA ATOMAR OREJA PARA...</td>\n",
       "      <td>1</td>\n",
       "      <td>1</td>\n",
       "      <td>0</td>\n",
       "      <td>0</td>\n",
       "      <td>0</td>\n",
       "      <td>0</td>\n",
       "      <td>0</td>\n",
       "      <td>6</td>\n",
       "      <td>1</td>\n",
       "      <td>120</td>\n",
       "      <td>2011</td>\n",
       "      <td>BOGOTÁ, D.C</td>\n",
       "      <td>1 smlv</td>\n",
       "      <td>2</td>\n",
       "    </tr>\n",
       "  </tbody>\n",
       "</table>\n",
       "</div>"
      ],
      "text/plain": [
       "   valor_vehiculo                              descripcion_siniestro  \\\n",
       "0      66200000.0  Iba conduciendo por la calle 116 entre la carr...   \n",
       "1      43000000.0  VENIAMOS POR LA BOYACA SE VA ATOMAR OREJA PARA...   \n",
       "\n",
       "   1.- Sección delantera  2.- Lateral delantero izquierdo  \\\n",
       "0                      1                                0   \n",
       "1                      1                                1   \n",
       "\n",
       "   3.- Lateral delantero derecho  4.- Lateral trasero izquierdo  \\\n",
       "0                              0                              0   \n",
       "1                              0                              0   \n",
       "\n",
       "   5.- Lateral trasero derecho  6.- Sección posterior  7.- Techo  \\\n",
       "0                            0                      0          0   \n",
       "1                            0                      0          0   \n",
       "\n",
       "   codigo_marca  codigo_clase  codigo_tipo_vehiculo  anio_modelo    municipio  \\\n",
       "0            92             1                   247         2019  BOGOTÁ, D.C   \n",
       "1             6             1                   120         2011  BOGOTÁ, D.C   \n",
       "\n",
       "              valor_deducible  num_partes_afectadas  \n",
       "0  0 con un minimo de 1 smmlv                     1  \n",
       "1                      1 smlv                     2  "
      ]
     },
     "execution_count": 37,
     "metadata": {},
     "output_type": "execute_result"
    }
   ],
   "source": [
    "data.head(2)"
   ]
  },
  {
   "cell_type": "code",
   "execution_count": 38,
   "id": "ebb51533-612f-4599-8125-cf31f96ef167",
   "metadata": {
    "execution": {
     "iopub.execute_input": "2025-01-14T19:59:59.011751Z",
     "iopub.status.busy": "2025-01-14T19:59:59.011485Z",
     "iopub.status.idle": "2025-01-14T19:59:59.016759Z",
     "shell.execute_reply": "2025-01-14T19:59:59.016287Z"
    },
    "papermill": {
     "duration": 0.013733,
     "end_time": "2025-01-14T19:59:59.017565",
     "exception": false,
     "start_time": "2025-01-14T19:59:59.003832",
     "status": "completed"
    },
    "tags": []
   },
   "outputs": [],
   "source": [
    "data['probabilidades'] = probas[:,1]\n",
    "data['numero_siniestro'] = numero_de_siniestro\n",
    "data['fecha_reporte'] = fecha\n",
    "data['placa'] = placa\n",
    "data['perdida_total'] = np.where(data['probabilidades'] >= 0.30, 'total', 'parcial')"
   ]
  },
  {
   "cell_type": "code",
   "execution_count": 39,
   "id": "e505324f-b596-40d2-9e3b-145fbd7462fb",
   "metadata": {
    "execution": {
     "iopub.execute_input": "2025-01-14T19:59:59.032764Z",
     "iopub.status.busy": "2025-01-14T19:59:59.032525Z",
     "iopub.status.idle": "2025-01-14T19:59:59.044774Z",
     "shell.execute_reply": "2025-01-14T19:59:59.044303Z"
    },
    "papermill": {
     "duration": 0.020736,
     "end_time": "2025-01-14T19:59:59.045595",
     "exception": false,
     "start_time": "2025-01-14T19:59:59.024859",
     "status": "completed"
    },
    "tags": []
   },
   "outputs": [
    {
     "data": {
      "text/html": [
       "<div>\n",
       "<style scoped>\n",
       "    .dataframe tbody tr th:only-of-type {\n",
       "        vertical-align: middle;\n",
       "    }\n",
       "\n",
       "    .dataframe tbody tr th {\n",
       "        vertical-align: top;\n",
       "    }\n",
       "\n",
       "    .dataframe thead th {\n",
       "        text-align: right;\n",
       "    }\n",
       "</style>\n",
       "<table border=\"1\" class=\"dataframe\">\n",
       "  <thead>\n",
       "    <tr style=\"text-align: right;\">\n",
       "      <th></th>\n",
       "      <th>valor_vehiculo</th>\n",
       "      <th>descripcion_siniestro</th>\n",
       "      <th>1.- Sección delantera</th>\n",
       "      <th>2.- Lateral delantero izquierdo</th>\n",
       "      <th>3.- Lateral delantero derecho</th>\n",
       "      <th>4.- Lateral trasero izquierdo</th>\n",
       "      <th>5.- Lateral trasero derecho</th>\n",
       "      <th>6.- Sección posterior</th>\n",
       "      <th>7.- Techo</th>\n",
       "      <th>codigo_marca</th>\n",
       "      <th>...</th>\n",
       "      <th>codigo_tipo_vehiculo</th>\n",
       "      <th>anio_modelo</th>\n",
       "      <th>municipio</th>\n",
       "      <th>valor_deducible</th>\n",
       "      <th>num_partes_afectadas</th>\n",
       "      <th>probabilidades</th>\n",
       "      <th>numero_siniestro</th>\n",
       "      <th>fecha_reporte</th>\n",
       "      <th>placa</th>\n",
       "      <th>perdida_total</th>\n",
       "    </tr>\n",
       "  </thead>\n",
       "  <tbody>\n",
       "    <tr>\n",
       "      <th>0</th>\n",
       "      <td>66200000.0</td>\n",
       "      <td>Iba conduciendo por la calle 116 entre la carr...</td>\n",
       "      <td>1</td>\n",
       "      <td>0</td>\n",
       "      <td>0</td>\n",
       "      <td>0</td>\n",
       "      <td>0</td>\n",
       "      <td>0</td>\n",
       "      <td>0</td>\n",
       "      <td>92</td>\n",
       "      <td>...</td>\n",
       "      <td>247</td>\n",
       "      <td>2019</td>\n",
       "      <td>BOGOTÁ, D.C</td>\n",
       "      <td>0 con un minimo de 1 smmlv</td>\n",
       "      <td>1</td>\n",
       "      <td>0.049576</td>\n",
       "      <td>1118803</td>\n",
       "      <td>2024-11-15</td>\n",
       "      <td>FPR887</td>\n",
       "      <td>parcial</td>\n",
       "    </tr>\n",
       "    <tr>\n",
       "      <th>1</th>\n",
       "      <td>43000000.0</td>\n",
       "      <td>VENIAMOS POR LA BOYACA SE VA ATOMAR OREJA PARA...</td>\n",
       "      <td>1</td>\n",
       "      <td>1</td>\n",
       "      <td>0</td>\n",
       "      <td>0</td>\n",
       "      <td>0</td>\n",
       "      <td>0</td>\n",
       "      <td>0</td>\n",
       "      <td>6</td>\n",
       "      <td>...</td>\n",
       "      <td>120</td>\n",
       "      <td>2011</td>\n",
       "      <td>BOGOTÁ, D.C</td>\n",
       "      <td>1 smlv</td>\n",
       "      <td>2</td>\n",
       "      <td>0.105358</td>\n",
       "      <td>1118808</td>\n",
       "      <td>2024-11-15</td>\n",
       "      <td>REN631</td>\n",
       "      <td>parcial</td>\n",
       "    </tr>\n",
       "  </tbody>\n",
       "</table>\n",
       "<p>2 rows × 21 columns</p>\n",
       "</div>"
      ],
      "text/plain": [
       "   valor_vehiculo                              descripcion_siniestro  \\\n",
       "0      66200000.0  Iba conduciendo por la calle 116 entre la carr...   \n",
       "1      43000000.0  VENIAMOS POR LA BOYACA SE VA ATOMAR OREJA PARA...   \n",
       "\n",
       "   1.- Sección delantera  2.- Lateral delantero izquierdo  \\\n",
       "0                      1                                0   \n",
       "1                      1                                1   \n",
       "\n",
       "   3.- Lateral delantero derecho  4.- Lateral trasero izquierdo  \\\n",
       "0                              0                              0   \n",
       "1                              0                              0   \n",
       "\n",
       "   5.- Lateral trasero derecho  6.- Sección posterior  7.- Techo  \\\n",
       "0                            0                      0          0   \n",
       "1                            0                      0          0   \n",
       "\n",
       "   codigo_marca  ...  codigo_tipo_vehiculo  anio_modelo    municipio  \\\n",
       "0            92  ...                   247         2019  BOGOTÁ, D.C   \n",
       "1             6  ...                   120         2011  BOGOTÁ, D.C   \n",
       "\n",
       "              valor_deducible num_partes_afectadas  probabilidades  \\\n",
       "0  0 con un minimo de 1 smmlv                    1        0.049576   \n",
       "1                      1 smlv                    2        0.105358   \n",
       "\n",
       "   numero_siniestro  fecha_reporte   placa perdida_total  \n",
       "0           1118803     2024-11-15  FPR887       parcial  \n",
       "1           1118808     2024-11-15  REN631       parcial  \n",
       "\n",
       "[2 rows x 21 columns]"
      ]
     },
     "execution_count": 39,
     "metadata": {},
     "output_type": "execute_result"
    }
   ],
   "source": [
    "data.head(2)"
   ]
  },
  {
   "cell_type": "code",
   "execution_count": 40,
   "id": "0a57f16e-70ba-4bf0-b36a-a17bd783c162",
   "metadata": {
    "execution": {
     "iopub.execute_input": "2025-01-14T19:59:59.060936Z",
     "iopub.status.busy": "2025-01-14T19:59:59.060712Z",
     "iopub.status.idle": "2025-01-14T19:59:59.064769Z",
     "shell.execute_reply": "2025-01-14T19:59:59.064301Z"
    },
    "papermill": {
     "duration": 0.012587,
     "end_time": "2025-01-14T19:59:59.065564",
     "exception": false,
     "start_time": "2025-01-14T19:59:59.052977",
     "status": "completed"
    },
    "tags": []
   },
   "outputs": [],
   "source": [
    "data = data.sort_values(by=['probabilidades'], ascending = False)"
   ]
  },
  {
   "cell_type": "code",
   "execution_count": 41,
   "id": "a1d881d5-3a49-4267-aaf7-20516b648230",
   "metadata": {
    "execution": {
     "iopub.execute_input": "2025-01-14T19:59:59.080934Z",
     "iopub.status.busy": "2025-01-14T19:59:59.080603Z",
     "iopub.status.idle": "2025-01-14T19:59:59.094656Z",
     "shell.execute_reply": "2025-01-14T19:59:59.094208Z"
    },
    "papermill": {
     "duration": 0.022711,
     "end_time": "2025-01-14T19:59:59.095519",
     "exception": false,
     "start_time": "2025-01-14T19:59:59.072808",
     "status": "completed"
    },
    "tags": []
   },
   "outputs": [
    {
     "data": {
      "text/html": [
       "<div>\n",
       "<style scoped>\n",
       "    .dataframe tbody tr th:only-of-type {\n",
       "        vertical-align: middle;\n",
       "    }\n",
       "\n",
       "    .dataframe tbody tr th {\n",
       "        vertical-align: top;\n",
       "    }\n",
       "\n",
       "    .dataframe thead th {\n",
       "        text-align: right;\n",
       "    }\n",
       "</style>\n",
       "<table border=\"1\" class=\"dataframe\">\n",
       "  <thead>\n",
       "    <tr style=\"text-align: right;\">\n",
       "      <th></th>\n",
       "      <th>numero_siniestro</th>\n",
       "      <th>perdida_total</th>\n",
       "      <th>valor_vehiculo</th>\n",
       "      <th>fecha_reporte</th>\n",
       "      <th>placa</th>\n",
       "      <th>descripcion_siniestro</th>\n",
       "      <th>1.- Sección delantera</th>\n",
       "      <th>2.- Lateral delantero izquierdo</th>\n",
       "      <th>3.- Lateral delantero derecho</th>\n",
       "      <th>4.- Lateral trasero izquierdo</th>\n",
       "      <th>...</th>\n",
       "      <th>6.- Sección posterior</th>\n",
       "      <th>7.- Techo</th>\n",
       "      <th>codigo_marca</th>\n",
       "      <th>codigo_clase</th>\n",
       "      <th>codigo_tipo_vehiculo</th>\n",
       "      <th>anio_modelo</th>\n",
       "      <th>municipio</th>\n",
       "      <th>valor_deducible</th>\n",
       "      <th>num_partes_afectadas</th>\n",
       "      <th>probabilidades</th>\n",
       "    </tr>\n",
       "  </thead>\n",
       "  <tbody>\n",
       "    <tr>\n",
       "      <th>2430</th>\n",
       "      <td>1125413</td>\n",
       "      <td>total</td>\n",
       "      <td>30200000.0</td>\n",
       "      <td>2024-12-30</td>\n",
       "      <td>DQX940</td>\n",
       "      <td>TRAYECTO A LERIDA TOLIMA APARENTEMENTE A UN MI...</td>\n",
       "      <td>1</td>\n",
       "      <td>1</td>\n",
       "      <td>1</td>\n",
       "      <td>1</td>\n",
       "      <td>...</td>\n",
       "      <td>1</td>\n",
       "      <td>1</td>\n",
       "      <td>16</td>\n",
       "      <td>1</td>\n",
       "      <td>308</td>\n",
       "      <td>2018</td>\n",
       "      <td>ARMENIA</td>\n",
       "      <td>1 smlv</td>\n",
       "      <td>7</td>\n",
       "      <td>0.949459</td>\n",
       "    </tr>\n",
       "    <tr>\n",
       "      <th>822</th>\n",
       "      <td>1121264</td>\n",
       "      <td>total</td>\n",
       "      <td>43700000.0</td>\n",
       "      <td>2024-11-30</td>\n",
       "      <td>UEV768</td>\n",
       "      <td>Me desplazaba por vía de Manizales hacia Santa...</td>\n",
       "      <td>1</td>\n",
       "      <td>1</td>\n",
       "      <td>1</td>\n",
       "      <td>1</td>\n",
       "      <td>...</td>\n",
       "      <td>1</td>\n",
       "      <td>1</td>\n",
       "      <td>80</td>\n",
       "      <td>1</td>\n",
       "      <td>176</td>\n",
       "      <td>2017</td>\n",
       "      <td>MANIZALES</td>\n",
       "      <td>1 smlv</td>\n",
       "      <td>7</td>\n",
       "      <td>0.943600</td>\n",
       "    </tr>\n",
       "  </tbody>\n",
       "</table>\n",
       "<p>2 rows × 21 columns</p>\n",
       "</div>"
      ],
      "text/plain": [
       "      numero_siniestro perdida_total  valor_vehiculo fecha_reporte   placa  \\\n",
       "2430           1125413         total      30200000.0    2024-12-30  DQX940   \n",
       "822            1121264         total      43700000.0    2024-11-30  UEV768   \n",
       "\n",
       "                                  descripcion_siniestro  \\\n",
       "2430  TRAYECTO A LERIDA TOLIMA APARENTEMENTE A UN MI...   \n",
       "822   Me desplazaba por vía de Manizales hacia Santa...   \n",
       "\n",
       "      1.- Sección delantera  2.- Lateral delantero izquierdo  \\\n",
       "2430                      1                                1   \n",
       "822                       1                                1   \n",
       "\n",
       "      3.- Lateral delantero derecho  4.- Lateral trasero izquierdo  ...  \\\n",
       "2430                              1                              1  ...   \n",
       "822                               1                              1  ...   \n",
       "\n",
       "      6.- Sección posterior  7.- Techo  codigo_marca  codigo_clase  \\\n",
       "2430                      1          1            16             1   \n",
       "822                       1          1            80             1   \n",
       "\n",
       "      codigo_tipo_vehiculo  anio_modelo  municipio valor_deducible  \\\n",
       "2430                   308         2018    ARMENIA          1 smlv   \n",
       "822                    176         2017  MANIZALES          1 smlv   \n",
       "\n",
       "     num_partes_afectadas  probabilidades  \n",
       "2430                    7        0.949459  \n",
       "822                     7        0.943600  \n",
       "\n",
       "[2 rows x 21 columns]"
      ]
     },
     "execution_count": 41,
     "metadata": {},
     "output_type": "execute_result"
    }
   ],
   "source": [
    "data = data[['numero_siniestro', 'perdida_total', 'valor_vehiculo', 'fecha_reporte', 'placa', 'descripcion_siniestro', '1.- Sección delantera', '2.- Lateral delantero izquierdo', '3.- Lateral delantero derecho', '4.- Lateral trasero izquierdo', '5.- Lateral trasero derecho', '6.- Sección posterior', '7.- Techo', 'codigo_marca', 'codigo_clase', 'codigo_tipo_vehiculo', 'anio_modelo', 'municipio', 'valor_deducible', 'num_partes_afectadas', 'probabilidades']]\n",
    "data.head(2)"
   ]
  },
  {
   "cell_type": "code",
   "execution_count": 42,
   "id": "25e0d3ea-bbf4-43c9-abec-e7f576d9167f",
   "metadata": {
    "execution": {
     "iopub.execute_input": "2025-01-14T19:59:59.111393Z",
     "iopub.status.busy": "2025-01-14T19:59:59.111163Z",
     "iopub.status.idle": "2025-01-14T19:59:59.155934Z",
     "shell.execute_reply": "2025-01-14T19:59:59.155399Z"
    },
    "papermill": {
     "duration": 0.053666,
     "end_time": "2025-01-14T19:59:59.156844",
     "exception": false,
     "start_time": "2025-01-14T19:59:59.103178",
     "status": "completed"
    },
    "scrolled": true,
    "tags": []
   },
   "outputs": [],
   "source": [
    "#data.to_excel(\"probabilitiestotaloss.csv\", index = False)\n",
    "#get the day/month and year of month\n",
    "import datetime\n",
    "time = datetime.datetime.now()\n",
    "d = time.strftime(\"%d\")\n",
    "m = time.strftime(\"%m\")\n",
    "y = time.strftime(\"%y\")\n",
    "\n",
    "data.to_csv(\"probabilitiestotaloss_{}_{}_{}.csv\".format(d,m,y), index = False)\n",
    "\n",
    "#s3.upload_file('probabilitiestotaloss_{}_{}_{}.csv'.format(d,m,y), 'cortex-intl-andes-nppm-latam', 'totallossco/predictions/probabilitiestotaloss_{}_{}_{}.csv'.format(d,m,y))"
   ]
  },
  {
   "cell_type": "code",
   "execution_count": 43,
   "id": "155a38bc-8c69-4b8a-8603-a0a765f95f73",
   "metadata": {
    "execution": {
     "iopub.execute_input": "2025-01-14T19:59:59.172655Z",
     "iopub.status.busy": "2025-01-14T19:59:59.172426Z",
     "iopub.status.idle": "2025-01-14T19:59:59.175116Z",
     "shell.execute_reply": "2025-01-14T19:59:59.174661Z"
    },
    "papermill": {
     "duration": 0.011476,
     "end_time": "2025-01-14T19:59:59.175920",
     "exception": false,
     "start_time": "2025-01-14T19:59:59.164444",
     "status": "completed"
    },
    "tags": []
   },
   "outputs": [],
   "source": [
    "data2 = pd.DataFrame(data)"
   ]
  },
  {
   "cell_type": "code",
   "execution_count": 44,
   "id": "95aa699a-5fdf-48e0-86d4-6b79a1a16524",
   "metadata": {
    "execution": {
     "iopub.execute_input": "2025-01-14T19:59:59.191395Z",
     "iopub.status.busy": "2025-01-14T19:59:59.191179Z",
     "iopub.status.idle": "2025-01-14T19:59:59.195191Z",
     "shell.execute_reply": "2025-01-14T19:59:59.194712Z"
    },
    "papermill": {
     "duration": 0.012674,
     "end_time": "2025-01-14T19:59:59.195965",
     "exception": false,
     "start_time": "2025-01-14T19:59:59.183291",
     "status": "completed"
    },
    "tags": []
   },
   "outputs": [],
   "source": [
    "columns_to_keep=['numero_siniestro', 'perdida_total', 'valor_vehiculo', 'descripcion_siniestro', 'fecha_reporte', 'placa', '1.- Sección delantera', '2.- Lateral delantero izquierdo', '3.- Lateral delantero derecho', '4.- Lateral trasero izquierdo', '5.- Lateral trasero derecho', '6.- Sección posterior', '7.- Techo']\n",
    "\n",
    "data2 = data2[columns_to_keep]"
   ]
  },
  {
   "cell_type": "code",
   "execution_count": 45,
   "id": "953345a2-2792-4250-a585-1660c497b223",
   "metadata": {
    "execution": {
     "iopub.execute_input": "2025-01-14T19:59:59.211506Z",
     "iopub.status.busy": "2025-01-14T19:59:59.211287Z",
     "iopub.status.idle": "2025-01-14T19:59:59.213733Z",
     "shell.execute_reply": "2025-01-14T19:59:59.213282Z"
    },
    "papermill": {
     "duration": 0.011126,
     "end_time": "2025-01-14T19:59:59.214511",
     "exception": false,
     "start_time": "2025-01-14T19:59:59.203385",
     "status": "completed"
    },
    "tags": []
   },
   "outputs": [],
   "source": [
    "# data2.to_excel(\"perdidas_totales_{}_{}_{}.xlsx\".format(d,m,y), index = False)\n",
    "# s3.upload_file('perdidas_totales_{}_{}_{}.xlsx'.format(d,m,y), 'cortex-intl-andes-nppm-latam', 'totallossco/predictions/perdidas_totales_{}_{}_{}.xlsx'.format(d,m,y))"
   ]
  },
  {
   "cell_type": "code",
   "execution_count": 46,
   "id": "bd80c543-a43d-4d3f-b303-df274be44e25",
   "metadata": {
    "execution": {
     "iopub.execute_input": "2025-01-14T19:59:59.230131Z",
     "iopub.status.busy": "2025-01-14T19:59:59.229918Z",
     "iopub.status.idle": "2025-01-14T20:00:03.100998Z",
     "shell.execute_reply": "2025-01-14T20:00:03.100433Z"
    },
    "papermill": {
     "duration": 3.880129,
     "end_time": "2025-01-14T20:00:03.102173",
     "exception": false,
     "start_time": "2025-01-14T19:59:59.222044",
     "status": "completed"
    },
    "tags": []
   },
   "outputs": [],
   "source": [
    "# Guardar el archivo localmente como Excel\n",
    "output_file = \"perdidas_totales_{}_{}_{}.xlsx\".format(d, m, y)\n",
    "data2.to_excel(output_file, index=False)\n",
    "# Nueva configuración para la ruta de subida en S3\n",
    "bucket_name = 'hdi-sagemaker-project-co'\n",
    "prefix = 'data-science/nppm-latam/totallossco/predictions/'\n",
    "# Subir el archivo a la nueva ubicación en S3\n",
    "s3.upload_file(\n",
    "   Filename=output_file,\n",
    "   Bucket=bucket_name,\n",
    "   Key=prefix + output_file\n",
    ")"
   ]
  },
  {
   "cell_type": "code",
   "execution_count": 47,
   "id": "1e3d1100-0f62-4f87-b7f9-92895f920218",
   "metadata": {
    "execution": {
     "iopub.execute_input": "2025-01-14T20:00:03.118750Z",
     "iopub.status.busy": "2025-01-14T20:00:03.118430Z",
     "iopub.status.idle": "2025-01-14T20:00:03.121918Z",
     "shell.execute_reply": "2025-01-14T20:00:03.121416Z"
    },
    "papermill": {
     "duration": 0.01273,
     "end_time": "2025-01-14T20:00:03.122740",
     "exception": false,
     "start_time": "2025-01-14T20:00:03.110010",
     "status": "completed"
    },
    "tags": []
   },
   "outputs": [
    {
     "name": "stdout",
     "output_type": "stream",
     "text": [
      "Archivo subido correctamente a hdi-sagemaker-project-co/data-science/nppm-latam/totallossco/predictions/\n"
     ]
    }
   ],
   "source": [
    "print(\"Archivo subido correctamente a hdi-sagemaker-project-co/data-science/nppm-latam/totallossco/predictions/\")"
   ]
  },
  {
   "cell_type": "code",
   "execution_count": 48,
   "id": "08702cc9-190c-4b8c-8e9f-74e89075280c",
   "metadata": {
    "execution": {
     "iopub.execute_input": "2025-01-14T20:00:03.138854Z",
     "iopub.status.busy": "2025-01-14T20:00:03.138582Z",
     "iopub.status.idle": "2025-01-14T20:00:03.141277Z",
     "shell.execute_reply": "2025-01-14T20:00:03.140796Z"
    },
    "papermill": {
     "duration": 0.011672,
     "end_time": "2025-01-14T20:00:03.142077",
     "exception": false,
     "start_time": "2025-01-14T20:00:03.130405",
     "status": "completed"
    },
    "tags": []
   },
   "outputs": [],
   "source": [
    "#############"
   ]
  }
 ],
 "metadata": {
  "kernelspec": {
   "display_name": "totalloss",
   "language": "python",
   "name": "totalloss"
  },
  "language_info": {
   "codemirror_mode": {
    "name": "ipython",
    "version": 3
   },
   "file_extension": ".py",
   "mimetype": "text/x-python",
   "name": "python",
   "nbconvert_exporter": "python",
   "pygments_lexer": "ipython3",
   "version": "3.10.8"
  },
  "papermill": {
   "default_parameters": {},
   "duration": 50.051395,
   "end_time": "2025-01-14T20:00:05.864365",
   "environment_variables": {},
   "exception": null,
   "input_path": "pipeline_totalloss.ipynb",
   "output_path": "pipeline_totalloss.ipynb",
   "parameters": {},
   "start_time": "2025-01-14T19:59:15.812970",
   "version": "2.6.0"
  }
 },
 "nbformat": 4,
 "nbformat_minor": 5
}