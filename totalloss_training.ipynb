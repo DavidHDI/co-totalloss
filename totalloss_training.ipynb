{
 "cells": [
  {
   "cell_type": "markdown",
   "id": "f5e825a9-2b2a-40d3-84a3-161c96c9ac6d",
   "metadata": {},
   "source": [
    "## Training the model"
   ]
  },
  {
   "cell_type": "code",
   "execution_count": 1,
   "id": "394b5ecb-0219-405a-a7fe-1ee46ae0f6f1",
   "metadata": {
    "tags": []
   },
   "outputs": [],
   "source": [
    "import re\n",
    "import numpy as np\n",
    "import pandas as pd\n",
    "from sklearn.feature_extraction.text import CountVectorizer\n",
    "from unidecode import unidecode\n",
    "import xgboost as xgb\n",
    "import boto3\n",
    "from datetime import datetime\n",
    "from sklearn.model_selection import train_test_split, StratifiedKFold, KFold"
   ]
  },
  {
   "cell_type": "code",
   "execution_count": 2,
   "id": "581e9105-8be7-4b63-ba98-3ab636adeadb",
   "metadata": {
    "tags": []
   },
   "outputs": [
    {
     "data": {
      "text/html": [
       "<div>\n",
       "<style scoped>\n",
       "    .dataframe tbody tr th:only-of-type {\n",
       "        vertical-align: middle;\n",
       "    }\n",
       "\n",
       "    .dataframe tbody tr th {\n",
       "        vertical-align: top;\n",
       "    }\n",
       "\n",
       "    .dataframe thead th {\n",
       "        text-align: right;\n",
       "    }\n",
       "</style>\n",
       "<table border=\"1\" class=\"dataframe\">\n",
       "  <thead>\n",
       "    <tr style=\"text-align: right;\">\n",
       "      <th></th>\n",
       "      <th>numero_siniestro</th>\n",
       "      <th>valor_vehiculo</th>\n",
       "      <th>valor_deducible</th>\n",
       "      <th>descripcion_siniestro</th>\n",
       "      <th>1.- Sección delantera</th>\n",
       "      <th>2.- Lateral delantero izquierdo</th>\n",
       "      <th>3.- Lateral delantero derecho</th>\n",
       "      <th>4.- Lateral trasero izquierdo</th>\n",
       "      <th>5.- Lateral trasero derecho</th>\n",
       "      <th>6.- Sección posterior</th>\n",
       "      <th>7.- Techo</th>\n",
       "      <th>codigo_marca</th>\n",
       "      <th>codigo_clase</th>\n",
       "      <th>codigo_tipo_vehiculo</th>\n",
       "      <th>anio_modelo</th>\n",
       "      <th>municipio</th>\n",
       "      <th>label</th>\n",
       "    </tr>\n",
       "  </thead>\n",
       "  <tbody>\n",
       "    <tr>\n",
       "      <th>0</th>\n",
       "      <td>899767</td>\n",
       "      <td>68900000.0</td>\n",
       "      <td>10% con un mínímo de 6 SMMLV</td>\n",
       "      <td>El día primero (1) de enero de 2022, siendo ap...</td>\n",
       "      <td>X</td>\n",
       "      <td>X</td>\n",
       "      <td>X</td>\n",
       "      <td>X</td>\n",
       "      <td>X</td>\n",
       "      <td>X</td>\n",
       "      <td>X</td>\n",
       "      <td>16</td>\n",
       "      <td>12</td>\n",
       "      <td>138</td>\n",
       "      <td>2012</td>\n",
       "      <td>GRANADA</td>\n",
       "      <td>0</td>\n",
       "    </tr>\n",
       "    <tr>\n",
       "      <th>1</th>\n",
       "      <td>899768</td>\n",
       "      <td>73700000.0</td>\n",
       "      <td>$950.000</td>\n",
       "      <td>El vehículo venía de Istmina  Chocó a recogerm...</td>\n",
       "      <td>X</td>\n",
       "      <td>X</td>\n",
       "      <td>X</td>\n",
       "      <td>X</td>\n",
       "      <td>X</td>\n",
       "      <td>X</td>\n",
       "      <td>X</td>\n",
       "      <td>30</td>\n",
       "      <td>6</td>\n",
       "      <td>134</td>\n",
       "      <td>2020</td>\n",
       "      <td>PEREIRA</td>\n",
       "      <td>1</td>\n",
       "    </tr>\n",
       "  </tbody>\n",
       "</table>\n",
       "</div>"
      ],
      "text/plain": [
       "   numero_siniestro  valor_vehiculo               valor_deducible  \\\n",
       "0            899767      68900000.0  10% con un mínímo de 6 SMMLV   \n",
       "1            899768      73700000.0                      $950.000   \n",
       "\n",
       "                               descripcion_siniestro 1.- Sección delantera  \\\n",
       "0  El día primero (1) de enero de 2022, siendo ap...                     X   \n",
       "1  El vehículo venía de Istmina  Chocó a recogerm...                     X   \n",
       "\n",
       "  2.- Lateral delantero izquierdo 3.- Lateral delantero derecho  \\\n",
       "0                               X                             X   \n",
       "1                               X                             X   \n",
       "\n",
       "  4.- Lateral trasero izquierdo 5.- Lateral trasero derecho  \\\n",
       "0                             X                           X   \n",
       "1                             X                           X   \n",
       "\n",
       "  6.- Sección posterior 7.- Techo  codigo_marca  codigo_clase  \\\n",
       "0                     X         X            16            12   \n",
       "1                     X         X            30             6   \n",
       "\n",
       "   codigo_tipo_vehiculo  anio_modelo municipio  label  \n",
       "0                   138         2012   GRANADA      0  \n",
       "1                   134         2020   PEREIRA      1  "
      ]
     },
     "execution_count": 2,
     "metadata": {},
     "output_type": "execute_result"
    }
   ],
   "source": [
    "data = pd.read_csv(\"data_totallossco.csv\")\n",
    "data.head(2)"
   ]
  },
  {
   "cell_type": "markdown",
   "id": "108b7a15-24e8-4333-97a5-c7ce16661898",
   "metadata": {},
   "source": [
    "We will standarize the values of valor_deducible since there are different formats"
   ]
  },
  {
   "cell_type": "code",
   "execution_count": 3,
   "id": "88c5232f-609a-4381-9dd1-d2428c3f05cf",
   "metadata": {
    "tags": []
   },
   "outputs": [
    {
     "data": {
      "text/plain": [
       "array(['10 con un minimo de 6 smmlv', '950.000',\n",
       "       '10 con un minimo de 1.5 smmlv', '10 con un minimo de 1 smmlv',\n",
       "       '0 con un minimo de 1 smmlv', '0 con un minimo de 1.5 smmlv',\n",
       "       '1.300.000', '2.000.000', '3.000.000',\n",
       "       '10 con un minimo de 3 smmlv', 'sin deducible',\n",
       "       '10 con un minimo de 2 smmlv', '4.400.000',\n",
       "       '20 con un minimo de 4 smmlv', '20 con un minimo de 1.5 smmlv',\n",
       "       '15 con un minimo de 10 smmlv', '0 con un minimo de 1.2 smmlv',\n",
       "       '4.000.000', '1.600.000', '20 con un minimo de 1 smmlv',\n",
       "       '20 con un minimo de 6 smmlv', '10 con un minimo de 4 smmlv',\n",
       "       '30 con un minimo de 2 smmlv', '20 con un minimo de 3 smmlv',\n",
       "       '10 con un minimo de 0.5 smmlv', None,\n",
       "       '15 con un minimo de 3 smmlv', '20 con un minimo de 0 smmlv',\n",
       "       '1.400.000', '0 con un minimo de 0 smmlv',\n",
       "       '15 con un minimo de 6 smmlv', '2.500.000', '0',\n",
       "       '20 con un minimo de 2 smmlv', '10 con un minimo de 0 smmlv',\n",
       "       '15 con un minimo de 0 smmlv', '15 con un minimo de 1 smmlv',\n",
       "       '0 con un minimo de 630.000', '0 con un minimo de 2 smmlv',\n",
       "       '10 con un mã\\xadnimo de 25 smmlv', '0 con un minimo de 700.000',\n",
       "       '700.000', '0 con un minimo de 3 smmlv',\n",
       "       '15 con un minimo de 2 smmlv', '900.000'], dtype=object)"
      ]
     },
     "execution_count": 3,
     "metadata": {},
     "output_type": "execute_result"
    }
   ],
   "source": [
    "def normalize_text(value): \n",
    "    if pd.isna(value):\n",
    "        return None\n",
    "\n",
    "    # Lowercase, remove extra spaces, and standardize similar terms\n",
    "    value = value.lower().strip()\n",
    "    value = value.replace('í', 'i').replace(',', '.').replace('%', '').replace('$', '')\n",
    "    value = value.strip()\n",
    "    value = re.sub(r'\\s+', ' ', value)  # Replace multiple spaces with a single space\n",
    "\n",
    "    return value\n",
    "\n",
    "# Apply the normalization function to the 'valor_deducible' column\n",
    "data['valor_deducible_normalized'] = data['valor_deducible'].apply(normalize_text)\n",
    "\n",
    "# Display unique normalized values for verification\n",
    "normalized_unique_values = data['valor_deducible_normalized'].unique()\n",
    "normalized_unique_values"
   ]
  },
  {
   "cell_type": "code",
   "execution_count": 4,
   "id": "21dbbacd-cc0f-44d4-a433-967c5d2ee10c",
   "metadata": {
    "tags": []
   },
   "outputs": [
    {
     "data": {
      "text/plain": [
       "Index(['numero_siniestro', 'valor_vehiculo', 'valor_deducible',\n",
       "       'descripcion_siniestro', '1.- Sección delantera',\n",
       "       '2.- Lateral delantero izquierdo', '3.- Lateral delantero derecho',\n",
       "       '4.- Lateral trasero izquierdo', '5.- Lateral trasero derecho',\n",
       "       '6.- Sección posterior', '7.- Techo', 'codigo_marca', 'codigo_clase',\n",
       "       'codigo_tipo_vehiculo', 'anio_modelo', 'municipio', 'label',\n",
       "       'valor_deducible_normalized'],\n",
       "      dtype='object')"
      ]
     },
     "execution_count": 4,
     "metadata": {},
     "output_type": "execute_result"
    }
   ],
   "source": [
    "data.columns"
   ]
  },
  {
   "cell_type": "code",
   "execution_count": 5,
   "id": "95e6132e-733d-4c1c-bdc5-d693dd7e74bb",
   "metadata": {
    "tags": []
   },
   "outputs": [],
   "source": [
    "columns_to_encoder = ['1.- Sección delantera',\n",
    "       '2.- Lateral delantero izquierdo', '3.- Lateral delantero derecho',\n",
    "       '4.- Lateral trasero izquierdo', '5.- Lateral trasero derecho',\n",
    "       '6.- Sección posterior', '7.- Techo']"
   ]
  },
  {
   "cell_type": "code",
   "execution_count": 6,
   "id": "ff536d12-b12c-40ce-8f9e-3a0a4874d36a",
   "metadata": {},
   "outputs": [],
   "source": [
    "for c in columns_to_encoder:\n",
    "    data[c] = data[c].apply(lambda x: 1 if x == \"X\" else 0)"
   ]
  },
  {
   "cell_type": "code",
   "execution_count": 7,
   "id": "319b4e5c-ffdd-4d7f-859d-8e55dd724253",
   "metadata": {
    "tags": []
   },
   "outputs": [],
   "source": [
    "data['num_partes_afectadas'] = data[columns_to_encoder].sum(axis=1)"
   ]
  },
  {
   "cell_type": "code",
   "execution_count": 8,
   "id": "ba71f89d-b1da-47e6-b743-443cfe94d3cd",
   "metadata": {
    "tags": []
   },
   "outputs": [
    {
     "data": {
      "text/html": [
       "<div>\n",
       "<style scoped>\n",
       "    .dataframe tbody tr th:only-of-type {\n",
       "        vertical-align: middle;\n",
       "    }\n",
       "\n",
       "    .dataframe tbody tr th {\n",
       "        vertical-align: top;\n",
       "    }\n",
       "\n",
       "    .dataframe thead th {\n",
       "        text-align: right;\n",
       "    }\n",
       "</style>\n",
       "<table border=\"1\" class=\"dataframe\">\n",
       "  <thead>\n",
       "    <tr style=\"text-align: right;\">\n",
       "      <th></th>\n",
       "      <th>numero_siniestro</th>\n",
       "      <th>valor_vehiculo</th>\n",
       "      <th>valor_deducible</th>\n",
       "      <th>descripcion_siniestro</th>\n",
       "      <th>1.- Sección delantera</th>\n",
       "      <th>2.- Lateral delantero izquierdo</th>\n",
       "      <th>3.- Lateral delantero derecho</th>\n",
       "      <th>4.- Lateral trasero izquierdo</th>\n",
       "      <th>5.- Lateral trasero derecho</th>\n",
       "      <th>6.- Sección posterior</th>\n",
       "      <th>7.- Techo</th>\n",
       "      <th>codigo_marca</th>\n",
       "      <th>codigo_clase</th>\n",
       "      <th>codigo_tipo_vehiculo</th>\n",
       "      <th>anio_modelo</th>\n",
       "      <th>municipio</th>\n",
       "      <th>label</th>\n",
       "      <th>valor_deducible_normalized</th>\n",
       "      <th>num_partes_afectadas</th>\n",
       "    </tr>\n",
       "  </thead>\n",
       "  <tbody>\n",
       "    <tr>\n",
       "      <th>0</th>\n",
       "      <td>899767</td>\n",
       "      <td>68900000.0</td>\n",
       "      <td>10% con un mínímo de 6 SMMLV</td>\n",
       "      <td>El día primero (1) de enero de 2022, siendo ap...</td>\n",
       "      <td>1</td>\n",
       "      <td>1</td>\n",
       "      <td>1</td>\n",
       "      <td>1</td>\n",
       "      <td>1</td>\n",
       "      <td>1</td>\n",
       "      <td>1</td>\n",
       "      <td>16</td>\n",
       "      <td>12</td>\n",
       "      <td>138</td>\n",
       "      <td>2012</td>\n",
       "      <td>GRANADA</td>\n",
       "      <td>0</td>\n",
       "      <td>10 con un minimo de 6 smmlv</td>\n",
       "      <td>7</td>\n",
       "    </tr>\n",
       "    <tr>\n",
       "      <th>1</th>\n",
       "      <td>899768</td>\n",
       "      <td>73700000.0</td>\n",
       "      <td>$950.000</td>\n",
       "      <td>El vehículo venía de Istmina  Chocó a recogerm...</td>\n",
       "      <td>1</td>\n",
       "      <td>1</td>\n",
       "      <td>1</td>\n",
       "      <td>1</td>\n",
       "      <td>1</td>\n",
       "      <td>1</td>\n",
       "      <td>1</td>\n",
       "      <td>30</td>\n",
       "      <td>6</td>\n",
       "      <td>134</td>\n",
       "      <td>2020</td>\n",
       "      <td>PEREIRA</td>\n",
       "      <td>1</td>\n",
       "      <td>950.000</td>\n",
       "      <td>7</td>\n",
       "    </tr>\n",
       "  </tbody>\n",
       "</table>\n",
       "</div>"
      ],
      "text/plain": [
       "   numero_siniestro  valor_vehiculo               valor_deducible  \\\n",
       "0            899767      68900000.0  10% con un mínímo de 6 SMMLV   \n",
       "1            899768      73700000.0                      $950.000   \n",
       "\n",
       "                               descripcion_siniestro  1.- Sección delantera  \\\n",
       "0  El día primero (1) de enero de 2022, siendo ap...                      1   \n",
       "1  El vehículo venía de Istmina  Chocó a recogerm...                      1   \n",
       "\n",
       "   2.- Lateral delantero izquierdo  3.- Lateral delantero derecho  \\\n",
       "0                                1                              1   \n",
       "1                                1                              1   \n",
       "\n",
       "   4.- Lateral trasero izquierdo  5.- Lateral trasero derecho  \\\n",
       "0                              1                            1   \n",
       "1                              1                            1   \n",
       "\n",
       "   6.- Sección posterior  7.- Techo  codigo_marca  codigo_clase  \\\n",
       "0                      1          1            16            12   \n",
       "1                      1          1            30             6   \n",
       "\n",
       "   codigo_tipo_vehiculo  anio_modelo municipio  label  \\\n",
       "0                   138         2012   GRANADA      0   \n",
       "1                   134         2020   PEREIRA      1   \n",
       "\n",
       "    valor_deducible_normalized  num_partes_afectadas  \n",
       "0  10 con un minimo de 6 smmlv                     7  \n",
       "1                      950.000                     7  "
      ]
     },
     "execution_count": 8,
     "metadata": {},
     "output_type": "execute_result"
    }
   ],
   "source": [
    "data.head(2)"
   ]
  },
  {
   "cell_type": "code",
   "execution_count": 9,
   "id": "59a83381-83fe-4471-b369-ab3f84edbff9",
   "metadata": {
    "tags": []
   },
   "outputs": [],
   "source": [
    "data = data.drop(columns = ['valor_deducible'])"
   ]
  },
  {
   "cell_type": "code",
   "execution_count": 10,
   "id": "65286d03-dd3e-4b64-9e21-7c8f49db12ae",
   "metadata": {
    "tags": []
   },
   "outputs": [],
   "source": [
    "data.rename(columns = {'valor_deducible_normalized': 'valor_deducible'}, inplace = True)"
   ]
  },
  {
   "cell_type": "code",
   "execution_count": 11,
   "id": "7f2cb292-6522-4144-9a38-dfec7e8d50c1",
   "metadata": {
    "tags": []
   },
   "outputs": [
    {
     "data": {
      "text/plain": [
       "numero_siniestro                     int64\n",
       "valor_vehiculo                     float64\n",
       "descripcion_siniestro               object\n",
       "1.- Sección delantera                int64\n",
       "2.- Lateral delantero izquierdo      int64\n",
       "3.- Lateral delantero derecho        int64\n",
       "4.- Lateral trasero izquierdo        int64\n",
       "5.- Lateral trasero derecho          int64\n",
       "6.- Sección posterior                int64\n",
       "7.- Techo                            int64\n",
       "codigo_marca                         int64\n",
       "codigo_clase                         int64\n",
       "codigo_tipo_vehiculo                 int64\n",
       "anio_modelo                          int64\n",
       "municipio                           object\n",
       "label                                int64\n",
       "valor_deducible                     object\n",
       "num_partes_afectadas                 int64\n",
       "dtype: object"
      ]
     },
     "execution_count": 11,
     "metadata": {},
     "output_type": "execute_result"
    }
   ],
   "source": [
    "data.dtypes"
   ]
  },
  {
   "cell_type": "code",
   "execution_count": 12,
   "id": "2e9e2ed5-ee2a-49bf-9a2a-3127f31b487c",
   "metadata": {
    "tags": []
   },
   "outputs": [
    {
     "data": {
      "text/html": [
       "<div>\n",
       "<style scoped>\n",
       "    .dataframe tbody tr th:only-of-type {\n",
       "        vertical-align: middle;\n",
       "    }\n",
       "\n",
       "    .dataframe tbody tr th {\n",
       "        vertical-align: top;\n",
       "    }\n",
       "\n",
       "    .dataframe thead th {\n",
       "        text-align: right;\n",
       "    }\n",
       "</style>\n",
       "<table border=\"1\" class=\"dataframe\">\n",
       "  <thead>\n",
       "    <tr style=\"text-align: right;\">\n",
       "      <th></th>\n",
       "      <th>numero_siniestro</th>\n",
       "      <th>valor_vehiculo</th>\n",
       "      <th>descripcion_siniestro</th>\n",
       "      <th>1.- Sección delantera</th>\n",
       "      <th>2.- Lateral delantero izquierdo</th>\n",
       "      <th>3.- Lateral delantero derecho</th>\n",
       "      <th>4.- Lateral trasero izquierdo</th>\n",
       "      <th>5.- Lateral trasero derecho</th>\n",
       "      <th>6.- Sección posterior</th>\n",
       "      <th>7.- Techo</th>\n",
       "      <th>codigo_marca</th>\n",
       "      <th>codigo_clase</th>\n",
       "      <th>codigo_tipo_vehiculo</th>\n",
       "      <th>anio_modelo</th>\n",
       "      <th>municipio</th>\n",
       "      <th>label</th>\n",
       "      <th>valor_deducible</th>\n",
       "      <th>num_partes_afectadas</th>\n",
       "    </tr>\n",
       "  </thead>\n",
       "  <tbody>\n",
       "    <tr>\n",
       "      <th>0</th>\n",
       "      <td>899767</td>\n",
       "      <td>68900000.0</td>\n",
       "      <td>El día primero (1) de enero de 2022, siendo ap...</td>\n",
       "      <td>1</td>\n",
       "      <td>1</td>\n",
       "      <td>1</td>\n",
       "      <td>1</td>\n",
       "      <td>1</td>\n",
       "      <td>1</td>\n",
       "      <td>1</td>\n",
       "      <td>16</td>\n",
       "      <td>12</td>\n",
       "      <td>138</td>\n",
       "      <td>2012</td>\n",
       "      <td>GRANADA</td>\n",
       "      <td>0</td>\n",
       "      <td>10 con un minimo de 6 smmlv</td>\n",
       "      <td>7</td>\n",
       "    </tr>\n",
       "    <tr>\n",
       "      <th>1</th>\n",
       "      <td>899768</td>\n",
       "      <td>73700000.0</td>\n",
       "      <td>El vehículo venía de Istmina  Chocó a recogerm...</td>\n",
       "      <td>1</td>\n",
       "      <td>1</td>\n",
       "      <td>1</td>\n",
       "      <td>1</td>\n",
       "      <td>1</td>\n",
       "      <td>1</td>\n",
       "      <td>1</td>\n",
       "      <td>30</td>\n",
       "      <td>6</td>\n",
       "      <td>134</td>\n",
       "      <td>2020</td>\n",
       "      <td>PEREIRA</td>\n",
       "      <td>1</td>\n",
       "      <td>950.000</td>\n",
       "      <td>7</td>\n",
       "    </tr>\n",
       "  </tbody>\n",
       "</table>\n",
       "</div>"
      ],
      "text/plain": [
       "   numero_siniestro  valor_vehiculo  \\\n",
       "0            899767      68900000.0   \n",
       "1            899768      73700000.0   \n",
       "\n",
       "                               descripcion_siniestro  1.- Sección delantera  \\\n",
       "0  El día primero (1) de enero de 2022, siendo ap...                      1   \n",
       "1  El vehículo venía de Istmina  Chocó a recogerm...                      1   \n",
       "\n",
       "   2.- Lateral delantero izquierdo  3.- Lateral delantero derecho  \\\n",
       "0                                1                              1   \n",
       "1                                1                              1   \n",
       "\n",
       "   4.- Lateral trasero izquierdo  5.- Lateral trasero derecho  \\\n",
       "0                              1                            1   \n",
       "1                              1                            1   \n",
       "\n",
       "   6.- Sección posterior  7.- Techo  codigo_marca  codigo_clase  \\\n",
       "0                      1          1            16            12   \n",
       "1                      1          1            30             6   \n",
       "\n",
       "   codigo_tipo_vehiculo  anio_modelo municipio  label  \\\n",
       "0                   138         2012   GRANADA      0   \n",
       "1                   134         2020   PEREIRA      1   \n",
       "\n",
       "               valor_deducible  num_partes_afectadas  \n",
       "0  10 con un minimo de 6 smmlv                     7  \n",
       "1                      950.000                     7  "
      ]
     },
     "execution_count": 12,
     "metadata": {},
     "output_type": "execute_result"
    }
   ],
   "source": [
    "data.head(2)"
   ]
  },
  {
   "cell_type": "code",
   "execution_count": 15,
   "id": "a8f5bcd5-918c-4931-9c36-b97782b0d970",
   "metadata": {
    "tags": []
   },
   "outputs": [],
   "source": [
    "data.to_csv(\"data_totallossco_training.csv\", index = False)"
   ]
  },
  {
   "cell_type": "code",
   "execution_count": 16,
   "id": "9df6259b-e2f9-49e4-b5ce-383023de5d38",
   "metadata": {},
   "outputs": [],
   "source": [
    "###########################"
   ]
  },
  {
   "cell_type": "markdown",
   "id": "2cecc534-516b-41e6-99ae-8f54091ff552",
   "metadata": {},
   "source": [
    "Now we will use the optuner library to optimize the hyperparameters"
   ]
  },
  {
   "cell_type": "markdown",
   "id": "92a24a4a-cbd0-4d75-89b8-cb9a9c1509a1",
   "metadata": {},
   "source": [
    "You may need to download SQLAlchemy < 2.0 in order to Optuna run"
   ]
  },
  {
   "cell_type": "markdown",
   "id": "569e4541-fe2a-4011-8004-6eed521927aa",
   "metadata": {},
   "source": [
    "I suggest to run the process for 200 trials in rounds of 40 (opt.optune(40)). It can take 2 days in a \n",
    "c5.4xlarge EC2 machine"
   ]
  },
  {
   "cell_type": "code",
   "execution_count": 17,
   "id": "a31295c5-dc17-46d1-8983-74f30e221bd9",
   "metadata": {},
   "outputs": [],
   "source": [
    "#pip install nppm_latam_optuner"
   ]
  },
  {
   "cell_type": "code",
   "execution_count": 13,
   "id": "2a04df46-32d3-45b4-8995-1ea4498ffa4a",
   "metadata": {
    "tags": []
   },
   "outputs": [
    {
     "name": "stderr",
     "output_type": "stream",
     "text": [
      "/opt/cortex-installs/miniconda/envs/mlmodels/lib/python3.9/site-packages/tqdm/auto.py:21: TqdmWarning: IProgress not found. Please update jupyter and ipywidgets. See https://ipywidgets.readthedocs.io/en/stable/user_install.html\n",
      "  from .autonotebook import tqdm as notebook_tqdm\n"
     ]
    }
   ],
   "source": [
    "from nppm_latam_optuner.optuner import Optuner"
   ]
  },
  {
   "cell_type": "markdown",
   "id": "d3a999c0-dcb5-4f07-b2c1-9dabb981a2ba",
   "metadata": {},
   "source": [
    "we define our predictors and label"
   ]
  },
  {
   "cell_type": "code",
   "execution_count": 14,
   "id": "afed2146-777b-4faa-a23b-6fd9b52459c6",
   "metadata": {
    "tags": []
   },
   "outputs": [
    {
     "data": {
      "text/plain": [
       "0    30693\n",
       "1     2316\n",
       "Name: label, dtype: int64"
      ]
     },
     "execution_count": 14,
     "metadata": {},
     "output_type": "execute_result"
    }
   ],
   "source": [
    "X = data.drop(columns=['numero_siniestro', 'label'])\n",
    "\n",
    "y = data.label\n",
    "y.value_counts()"
   ]
  },
  {
   "cell_type": "code",
   "execution_count": 15,
   "id": "73479fad-6cd5-4b40-9021-2e74cea0a928",
   "metadata": {
    "tags": []
   },
   "outputs": [],
   "source": [
    "X_train, X_test, y_train, y_test = train_test_split(\n",
    "    X, y, stratify=y, test_size=0.2, random_state=42)\n",
    "\n",
    "skf = StratifiedKFold(n_splits=4, random_state=0, shuffle=True)\n",
    "\n",
    "opt = Optuner(study_name='co_totalloss', prediction_task='clf',\n",
    "              X=X_train, y=y_train,\n",
    "              num_cols=['valor_vehiculo', 'num_partes_afectadas', '1.- Sección delantera', '2.- Lateral delantero izquierdo',\n",
    "               '3.- Lateral delantero derecho', '4.- Lateral trasero izquierdo','5.- Lateral trasero derecho', '6.- Sección posterior', '7.- Techo'],\n",
    "              cat_cols=['codigo_marca', 'codigo_clase', 'codigo_tipo_vehiculo', 'anio_modelo', 'municipio', 'valor_deducible'],\n",
    "              text_cols=['descripcion_siniestro'],\n",
    "              language='spa',\n",
    "              cv=skf, scoring='average_precision', direction='maximize',\n",
    "              model_n_jobs=9, cross_val_n_jobs=4)\n",
    "\n",
    "opt.optune(1)"
   ]
  },
  {
   "cell_type": "markdown",
   "id": "430b77c8-2d50-4f6d-a0e0-fe386d5d0f63",
   "metadata": {},
   "source": [
    "Now we will infer in the test set"
   ]
  },
  {
   "cell_type": "code",
   "execution_count": 16,
   "id": "18a613ca-2a1e-49d1-b3d7-674a8ffcec05",
   "metadata": {},
   "outputs": [
    {
     "name": "stderr",
     "output_type": "stream",
     "text": [
      "/opt/cortex-installs/miniconda/envs/mlmodels/lib/python3.9/site-packages/xgboost/core.py:160: UserWarning: [14:08:25] WARNING: /workspace/src/common/error_msg.h:80: If you are loading a serialized model (like pickle in Python, RDS in R) or\n",
      "configuration generated by an older version of XGBoost, please export the model by calling\n",
      "`Booster.save_model` from that version first, then load it back in current version. See:\n",
      "\n",
      "    https://xgboost.readthedocs.io/en/stable/tutorials/saving_model.html\n",
      "\n",
      "for more details about differences between saving model and serializing.\n",
      "\n",
      "  warnings.warn(smsg, UserWarning)\n"
     ]
    },
    {
     "data": {
      "text/plain": [
       "nppm_latam_optuner.optuner.OptunedModel"
      ]
     },
     "execution_count": 16,
     "metadata": {},
     "output_type": "execute_result"
    }
   ],
   "source": [
    "import joblib\n",
    "\n",
    "optuned_model = joblib.load('co_totalloss.joblib')\n",
    "type(optuned_model)"
   ]
  },
  {
   "cell_type": "code",
   "execution_count": 17,
   "id": "01f14075-122c-4a10-ba3c-bf1929c68045",
   "metadata": {
    "tags": []
   },
   "outputs": [
    {
     "data": {
      "text/plain": [
       "((6602, 16), (6602, 2))"
      ]
     },
     "execution_count": 17,
     "metadata": {},
     "output_type": "execute_result"
    }
   ],
   "source": [
    "from sklearn.metrics import average_precision_score\n",
    "\n",
    "probas = optuned_model.predict_proba(X_test)\n",
    "\n",
    "X_test.shape, probas.shape"
   ]
  },
  {
   "cell_type": "code",
   "execution_count": 18,
   "id": "697a7c20-54ba-4ade-94e8-bb171687a701",
   "metadata": {
    "tags": []
   },
   "outputs": [
    {
     "data": {
      "text/plain": [
       "array([[0.7700663 , 0.22993365],\n",
       "       [0.9431783 , 0.05682167],\n",
       "       [0.99530894, 0.00469103],\n",
       "       ...,\n",
       "       [0.9599323 , 0.04006765],\n",
       "       [0.9832779 , 0.01672207],\n",
       "       [0.97026134, 0.02973862]], dtype=float32)"
      ]
     },
     "execution_count": 18,
     "metadata": {},
     "output_type": "execute_result"
    }
   ],
   "source": [
    "probas"
   ]
  },
  {
   "cell_type": "code",
   "execution_count": 19,
   "id": "59fcd4fe-a957-4014-9571-ce23e7d726a9",
   "metadata": {
    "tags": []
   },
   "outputs": [
    {
     "data": {
      "text/plain": [
       "0.5230555567082098"
      ]
     },
     "execution_count": 19,
     "metadata": {},
     "output_type": "execute_result"
    }
   ],
   "source": [
    "average_precision_score(y_test, probas[:, 1])"
   ]
  },
  {
   "cell_type": "code",
   "execution_count": null,
   "id": "83a4e81c-3f0c-4eac-a728-9bd25b9f4d44",
   "metadata": {},
   "outputs": [],
   "source": [
    "#######################"
   ]
  }
 ],
 "metadata": {
  "kernelspec": {
   "display_name": "mlmodels",
   "language": "python",
   "name": "mlmodels"
  },
  "language_info": {
   "codemirror_mode": {
    "name": "ipython",
    "version": 3
   },
   "file_extension": ".py",
   "mimetype": "text/x-python",
   "name": "python",
   "nbconvert_exporter": "python",
   "pygments_lexer": "ipython3",
   "version": "3.9.18"
  }
 },
 "nbformat": 4,
 "nbformat_minor": 5
}
